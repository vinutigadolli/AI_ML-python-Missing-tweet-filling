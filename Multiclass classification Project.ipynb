{
 "cells": [
  {
   "cell_type": "markdown",
   "id": "3c34099d",
   "metadata": {},
   "source": [
    "### Importing Necessary library"
   ]
  },
  {
   "cell_type": "code",
   "execution_count": 2,
   "id": "8c34c7a3",
   "metadata": {},
   "outputs": [],
   "source": [
    "import pandas as pd\n",
    "import matplotlib.pyplot as plt\n",
    "import seaborn as sns\n",
    "import re  \n",
    "import emoji"
   ]
  },
  {
   "cell_type": "code",
   "execution_count": 3,
   "id": "707c1923",
   "metadata": {},
   "outputs": [],
   "source": [
    "pd.options.display.max_colwidth = 200"
   ]
  },
  {
   "cell_type": "code",
   "execution_count": 4,
   "id": "71a994ff",
   "metadata": {},
   "outputs": [
    {
     "data": {
      "text/html": [
       "<div>\n",
       "<style scoped>\n",
       "    .dataframe tbody tr th:only-of-type {\n",
       "        vertical-align: middle;\n",
       "    }\n",
       "\n",
       "    .dataframe tbody tr th {\n",
       "        vertical-align: top;\n",
       "    }\n",
       "\n",
       "    .dataframe thead th {\n",
       "        text-align: right;\n",
       "    }\n",
       "</style>\n",
       "<table border=\"1\" class=\"dataframe\">\n",
       "  <thead>\n",
       "    <tr style=\"text-align: right;\">\n",
       "      <th></th>\n",
       "      <th>id</th>\n",
       "      <th>tweet_text</th>\n",
       "      <th>tweet_created_at</th>\n",
       "      <th>tweet_intent</th>\n",
       "    </tr>\n",
       "  </thead>\n",
       "  <tbody>\n",
       "    <tr>\n",
       "      <th>0</th>\n",
       "      <td>1212762</td>\n",
       "      <td>@crypto_brody @eCoLoGy1990 @MoonrunnersNFT @ItsukiNFT @thelittlesnft @SpaceRiders_NFT @WDoopsies @WomenandWeapons @WoWPixiesNFT @BokiNFT @quirkiesnft @bitcoin_bowie @Kal_El_Krypto_ @sophiegreen86 ...</td>\n",
       "      <td>2022-08-06T16:56:36.000Z</td>\n",
       "      <td>Community</td>\n",
       "    </tr>\n",
       "    <tr>\n",
       "      <th>1</th>\n",
       "      <td>1212763</td>\n",
       "      <td>Need Sick Character artâ“#art #artist #Artists #animation #illustrators #illustrations #illustrationart #NFT #NFTGiveaways #3Danimation #3dart #conceptart #Concept #illustrators #SolanaNFTs #Arti...</td>\n",
       "      <td>2022-08-06T16:56:36.000Z</td>\n",
       "      <td>Giveaway</td>\n",
       "    </tr>\n",
       "    <tr>\n",
       "      <th>2</th>\n",
       "      <td>1212765</td>\n",
       "      <td>@The_Hulk_NFT @INagotchiNFT @Tesla @killabearsnft @elonmusk Great choice on a Tesla! Good luck!</td>\n",
       "      <td>2022-08-06T16:56:35.000Z</td>\n",
       "      <td>Appreciation</td>\n",
       "    </tr>\n",
       "    <tr>\n",
       "      <th>3</th>\n",
       "      <td>1212766</td>\n",
       "      <td>@CryptoBatzNFT @DarekBTW The first project in crypto with move to earn  #AstroBirdz. Big things happening with this project with release of marketplace and  #NEST.\\n#FeedToEarn . \\n #birdzarmy \\n ...</td>\n",
       "      <td>2022-08-06T16:56:35.000Z</td>\n",
       "      <td>Community</td>\n",
       "    </tr>\n",
       "    <tr>\n",
       "      <th>4</th>\n",
       "      <td>1212767</td>\n",
       "      <td>@sashadysonn The first project in crypto with move to earn  #AstroBirdz. Big things happening with this project with release of marketplace and  #NEST.\\n#FeedToEarn . \\n #birdzarmy \\n #luna #BTC #...</td>\n",
       "      <td>2022-08-06T16:56:34.000Z</td>\n",
       "      <td>Community</td>\n",
       "    </tr>\n",
       "  </tbody>\n",
       "</table>\n",
       "</div>"
      ],
      "text/plain": [
       "        id  \\\n",
       "0  1212762   \n",
       "1  1212763   \n",
       "2  1212765   \n",
       "3  1212766   \n",
       "4  1212767   \n",
       "\n",
       "                                                                                                                                                                                                tweet_text  \\\n",
       "0  @crypto_brody @eCoLoGy1990 @MoonrunnersNFT @ItsukiNFT @thelittlesnft @SpaceRiders_NFT @WDoopsies @WomenandWeapons @WoWPixiesNFT @BokiNFT @quirkiesnft @bitcoin_bowie @Kal_El_Krypto_ @sophiegreen86 ...   \n",
       "1  Need Sick Character artâ“#art #artist #Artists #animation #illustrators #illustrations #illustrationart #NFT #NFTGiveaways #3Danimation #3dart #conceptart #Concept #illustrators #SolanaNFTs #Arti...   \n",
       "2                                                                                                          @The_Hulk_NFT @INagotchiNFT @Tesla @killabearsnft @elonmusk Great choice on a Tesla! Good luck!   \n",
       "3  @CryptoBatzNFT @DarekBTW The first project in crypto with move to earn  #AstroBirdz. Big things happening with this project with release of marketplace and  #NEST.\\n#FeedToEarn . \\n #birdzarmy \\n ...   \n",
       "4  @sashadysonn The first project in crypto with move to earn  #AstroBirdz. Big things happening with this project with release of marketplace and  #NEST.\\n#FeedToEarn . \\n #birdzarmy \\n #luna #BTC #...   \n",
       "\n",
       "           tweet_created_at  tweet_intent  \n",
       "0  2022-08-06T16:56:36.000Z     Community  \n",
       "1  2022-08-06T16:56:36.000Z      Giveaway  \n",
       "2  2022-08-06T16:56:35.000Z  Appreciation  \n",
       "3  2022-08-06T16:56:35.000Z     Community  \n",
       "4  2022-08-06T16:56:34.000Z     Community  "
      ]
     },
     "execution_count": 4,
     "metadata": {},
     "output_type": "execute_result"
    }
   ],
   "source": [
    "# Reading the Dataset\n",
    "data = pd.read_csv(\"Tweet_NFT.csv\")\n",
    "data.head()"
   ]
  },
  {
   "cell_type": "code",
   "execution_count": 5,
   "id": "5af70813",
   "metadata": {},
   "outputs": [
    {
     "data": {
      "text/plain": [
       "Index(['id', 'tweet_text', 'tweet_created_at', 'tweet_intent'], dtype='object')"
      ]
     },
     "execution_count": 5,
     "metadata": {},
     "output_type": "execute_result"
    }
   ],
   "source": [
    "data.columns"
   ]
  },
  {
   "cell_type": "code",
   "execution_count": 6,
   "id": "de2f7476",
   "metadata": {},
   "outputs": [],
   "source": [
    "# Rearranging the columns\n",
    "data = data[['id', 'tweet_created_at', 'tweet_text', 'tweet_intent']]"
   ]
  },
  {
   "cell_type": "code",
   "execution_count": 7,
   "id": "457c0e2f",
   "metadata": {},
   "outputs": [
    {
     "data": {
      "text/plain": [
       "(127453, 4)"
      ]
     },
     "execution_count": 7,
     "metadata": {},
     "output_type": "execute_result"
    }
   ],
   "source": [
    "data.shape"
   ]
  },
  {
   "cell_type": "code",
   "execution_count": 8,
   "id": "539c144d",
   "metadata": {},
   "outputs": [
    {
     "data": {
      "text/plain": [
       "id                  0.000000\n",
       "tweet_created_at    0.000000\n",
       "tweet_text          0.000000\n",
       "tweet_intent        0.243925\n",
       "dtype: float64"
      ]
     },
     "execution_count": 8,
     "metadata": {},
     "output_type": "execute_result"
    }
   ],
   "source": [
    "# checking the null values\n",
    "data.isnull().mean()"
   ]
  },
  {
   "cell_type": "code",
   "execution_count": 9,
   "id": "a5cf8051",
   "metadata": {},
   "outputs": [
    {
     "data": {
      "text/html": [
       "<div>\n",
       "<style scoped>\n",
       "    .dataframe tbody tr th:only-of-type {\n",
       "        vertical-align: middle;\n",
       "    }\n",
       "\n",
       "    .dataframe tbody tr th {\n",
       "        vertical-align: top;\n",
       "    }\n",
       "\n",
       "    .dataframe thead th {\n",
       "        text-align: right;\n",
       "    }\n",
       "</style>\n",
       "<table border=\"1\" class=\"dataframe\">\n",
       "  <thead>\n",
       "    <tr style=\"text-align: right;\">\n",
       "      <th></th>\n",
       "      <th>id</th>\n",
       "      <th>tweet_created_at</th>\n",
       "      <th>tweet_text</th>\n",
       "      <th>tweet_intent</th>\n",
       "    </tr>\n",
       "  </thead>\n",
       "  <tbody>\n",
       "    <tr>\n",
       "      <th>96364</th>\n",
       "      <td>1212764</td>\n",
       "      <td>2022-08-06T16:56:35.000Z</td>\n",
       "      <td>15% off ðŸ§™â€â™‚ï¸ #Wizardia NFTs - it's a #p2e game in a magic-filled metaverse! Arena Genesis NFTs = 50% APY passive royalties. Wizard NFTs = access to the Alpha game! Get them now ðŸ‘‰ https...</td>\n",
       "      <td>NaN</td>\n",
       "    </tr>\n",
       "    <tr>\n",
       "      <th>96365</th>\n",
       "      <td>1212770</td>\n",
       "      <td>2022-08-06T16:56:33.000Z</td>\n",
       "      <td>@asksabir007 @dao_lm Don't miss the chance to win NFT worth of 1000Each Just simple step with clicking the link below and finish some easy task that will be. Come join us now and earn your NFT col...</td>\n",
       "      <td>NaN</td>\n",
       "    </tr>\n",
       "    <tr>\n",
       "      <th>96366</th>\n",
       "      <td>1212773</td>\n",
       "      <td>2022-08-06T16:56:33.000Z</td>\n",
       "      <td>This zesty faucet from @_bitcoiner is making me tweet this to claim my free NEFTY tokens. âš¡\\n\\n@_bitcoiner unlock me 4255a896-9e33-45c6-b800-e9d64a0511c1\\n\\n#NEFTY #NFT $NEFTY https://t.co/YxboP...</td>\n",
       "      <td>NaN</td>\n",
       "    </tr>\n",
       "    <tr>\n",
       "      <th>96367</th>\n",
       "      <td>1212804</td>\n",
       "      <td>2022-08-06T16:56:23.000Z</td>\n",
       "      <td>15% off ðŸ§™â€â™‚ï¸ #Wizardia NFTs - it's a #p2e game in a magic-filled metaverse! Arena Genesis NFTs = 50% APY passive royalties. Wizard NFTs = access to the Alpha game! Get them now ðŸ‘‰ https...</td>\n",
       "      <td>NaN</td>\n",
       "    </tr>\n",
       "    <tr>\n",
       "      <th>96368</th>\n",
       "      <td>1212776</td>\n",
       "      <td>2022-08-06T16:56:32.000Z</td>\n",
       "      <td>@Kavaboy_NFT @tanya_4d Message me, letâ€™s talk about some marketing for your project</td>\n",
       "      <td>NaN</td>\n",
       "    </tr>\n",
       "  </tbody>\n",
       "</table>\n",
       "</div>"
      ],
      "text/plain": [
       "            id          tweet_created_at  \\\n",
       "96364  1212764  2022-08-06T16:56:35.000Z   \n",
       "96365  1212770  2022-08-06T16:56:33.000Z   \n",
       "96366  1212773  2022-08-06T16:56:33.000Z   \n",
       "96367  1212804  2022-08-06T16:56:23.000Z   \n",
       "96368  1212776  2022-08-06T16:56:32.000Z   \n",
       "\n",
       "                                                                                                                                                                                                    tweet_text  \\\n",
       "96364  15% off ðŸ§™â€â™‚ï¸ #Wizardia NFTs - it's a #p2e game in a magic-filled metaverse! Arena Genesis NFTs = 50% APY passive royalties. Wizard NFTs = access to the Alpha game! Get them now ðŸ‘‰ https...   \n",
       "96365  @asksabir007 @dao_lm Don't miss the chance to win NFT worth of 1000Each Just simple step with clicking the link below and finish some easy task that will be. Come join us now and earn your NFT col...   \n",
       "96366  This zesty faucet from @_bitcoiner is making me tweet this to claim my free NEFTY tokens. âš¡\\n\\n@_bitcoiner unlock me 4255a896-9e33-45c6-b800-e9d64a0511c1\\n\\n#NEFTY #NFT $NEFTY https://t.co/YxboP...   \n",
       "96367  15% off ðŸ§™â€â™‚ï¸ #Wizardia NFTs - it's a #p2e game in a magic-filled metaverse! Arena Genesis NFTs = 50% APY passive royalties. Wizard NFTs = access to the Alpha game! Get them now ðŸ‘‰ https...   \n",
       "96368                                                                                                                    @Kavaboy_NFT @tanya_4d Message me, letâ€™s talk about some marketing for your project   \n",
       "\n",
       "      tweet_intent  \n",
       "96364          NaN  \n",
       "96365          NaN  \n",
       "96366          NaN  \n",
       "96367          NaN  \n",
       "96368          NaN  "
      ]
     },
     "execution_count": 9,
     "metadata": {},
     "output_type": "execute_result"
    }
   ],
   "source": [
    "data[data.tweet_intent.isnull()].head()"
   ]
  },
  {
   "cell_type": "code",
   "execution_count": 10,
   "id": "2883dd19",
   "metadata": {},
   "outputs": [
    {
     "data": {
      "text/plain": [
       "(96364, 4)"
      ]
     },
     "execution_count": 10,
     "metadata": {},
     "output_type": "execute_result"
    }
   ],
   "source": [
    "# placing all the values having tweet intent\n",
    "df = data[data.tweet_intent.isnull() == False].copy()\n",
    "df.shape\n"
   ]
  },
  {
   "cell_type": "markdown",
   "id": "39bb703e",
   "metadata": {},
   "source": [
    "there are 96364 values having tweet intent"
   ]
  },
  {
   "cell_type": "code",
   "execution_count": 11,
   "id": "acf203c5",
   "metadata": {},
   "outputs": [
    {
     "data": {
      "text/plain": [
       "(31089, 4)"
      ]
     },
     "execution_count": 11,
     "metadata": {},
     "output_type": "execute_result"
    }
   ],
   "source": [
    "# placing all the values having tweet intent as null into test set\n",
    "test_df = data[data.tweet_intent.isnull() == True].copy()\n",
    "test_df.shape"
   ]
  },
  {
   "cell_type": "markdown",
   "id": "107eebcb",
   "metadata": {},
   "source": [
    "there are 31089 values having tweet intent as null"
   ]
  },
  {
   "cell_type": "code",
   "execution_count": 12,
   "id": "9ee5ec89",
   "metadata": {},
   "outputs": [
    {
     "name": "stdout",
     "output_type": "stream",
     "text": [
      "<class 'pandas.core.frame.DataFrame'>\n",
      "Int64Index: 96364 entries, 0 to 96363\n",
      "Data columns (total 4 columns):\n",
      " #   Column            Non-Null Count  Dtype \n",
      "---  ------            --------------  ----- \n",
      " 0   id                96364 non-null  int64 \n",
      " 1   tweet_created_at  96364 non-null  object\n",
      " 2   tweet_text        96364 non-null  object\n",
      " 3   tweet_intent      96364 non-null  object\n",
      "dtypes: int64(1), object(3)\n",
      "memory usage: 3.7+ MB\n"
     ]
    }
   ],
   "source": [
    "# checking the column info\n",
    "df.info() "
   ]
  },
  {
   "cell_type": "code",
   "execution_count": 15,
   "id": "135f5b54",
   "metadata": {},
   "outputs": [
    {
     "data": {
      "text/html": [
       "<div>\n",
       "<style scoped>\n",
       "    .dataframe tbody tr th:only-of-type {\n",
       "        vertical-align: middle;\n",
       "    }\n",
       "\n",
       "    .dataframe tbody tr th {\n",
       "        vertical-align: top;\n",
       "    }\n",
       "\n",
       "    .dataframe thead th {\n",
       "        text-align: right;\n",
       "    }\n",
       "</style>\n",
       "<table border=\"1\" class=\"dataframe\">\n",
       "  <thead>\n",
       "    <tr style=\"text-align: right;\">\n",
       "      <th></th>\n",
       "      <th>id</th>\n",
       "      <th>tweet_created_at</th>\n",
       "      <th>tweet_text</th>\n",
       "      <th>tweet_intent</th>\n",
       "    </tr>\n",
       "  </thead>\n",
       "  <tbody>\n",
       "    <tr>\n",
       "      <th>0</th>\n",
       "      <td>1212762</td>\n",
       "      <td>2022-08-06</td>\n",
       "      <td>@crypto_brody @eCoLoGy1990 @MoonrunnersNFT @ItsukiNFT @thelittlesnft @SpaceRiders_NFT @WDoopsies @WomenandWeapons @WoWPixiesNFT @BokiNFT @quirkiesnft @bitcoin_bowie @Kal_El_Krypto_ @sophiegreen86 ...</td>\n",
       "      <td>Community</td>\n",
       "    </tr>\n",
       "    <tr>\n",
       "      <th>1</th>\n",
       "      <td>1212763</td>\n",
       "      <td>2022-08-06</td>\n",
       "      <td>Need Sick Character artâ“#art #artist #Artists #animation #illustrators #illustrations #illustrationart #NFT #NFTGiveaways #3Danimation #3dart #conceptart #Concept #illustrators #SolanaNFTs #Arti...</td>\n",
       "      <td>Giveaway</td>\n",
       "    </tr>\n",
       "    <tr>\n",
       "      <th>2</th>\n",
       "      <td>1212765</td>\n",
       "      <td>2022-08-06</td>\n",
       "      <td>@The_Hulk_NFT @INagotchiNFT @Tesla @killabearsnft @elonmusk Great choice on a Tesla! Good luck!</td>\n",
       "      <td>Appreciation</td>\n",
       "    </tr>\n",
       "    <tr>\n",
       "      <th>3</th>\n",
       "      <td>1212766</td>\n",
       "      <td>2022-08-06</td>\n",
       "      <td>@CryptoBatzNFT @DarekBTW The first project in crypto with move to earn  #AstroBirdz. Big things happening with this project with release of marketplace and  #NEST.\\n#FeedToEarn . \\n #birdzarmy \\n ...</td>\n",
       "      <td>Community</td>\n",
       "    </tr>\n",
       "    <tr>\n",
       "      <th>4</th>\n",
       "      <td>1212767</td>\n",
       "      <td>2022-08-06</td>\n",
       "      <td>@sashadysonn The first project in crypto with move to earn  #AstroBirdz. Big things happening with this project with release of marketplace and  #NEST.\\n#FeedToEarn . \\n #birdzarmy \\n #luna #BTC #...</td>\n",
       "      <td>Community</td>\n",
       "    </tr>\n",
       "  </tbody>\n",
       "</table>\n",
       "</div>"
      ],
      "text/plain": [
       "        id tweet_created_at  \\\n",
       "0  1212762       2022-08-06   \n",
       "1  1212763       2022-08-06   \n",
       "2  1212765       2022-08-06   \n",
       "3  1212766       2022-08-06   \n",
       "4  1212767       2022-08-06   \n",
       "\n",
       "                                                                                                                                                                                                tweet_text  \\\n",
       "0  @crypto_brody @eCoLoGy1990 @MoonrunnersNFT @ItsukiNFT @thelittlesnft @SpaceRiders_NFT @WDoopsies @WomenandWeapons @WoWPixiesNFT @BokiNFT @quirkiesnft @bitcoin_bowie @Kal_El_Krypto_ @sophiegreen86 ...   \n",
       "1  Need Sick Character artâ“#art #artist #Artists #animation #illustrators #illustrations #illustrationart #NFT #NFTGiveaways #3Danimation #3dart #conceptart #Concept #illustrators #SolanaNFTs #Arti...   \n",
       "2                                                                                                          @The_Hulk_NFT @INagotchiNFT @Tesla @killabearsnft @elonmusk Great choice on a Tesla! Good luck!   \n",
       "3  @CryptoBatzNFT @DarekBTW The first project in crypto with move to earn  #AstroBirdz. Big things happening with this project with release of marketplace and  #NEST.\\n#FeedToEarn . \\n #birdzarmy \\n ...   \n",
       "4  @sashadysonn The first project in crypto with move to earn  #AstroBirdz. Big things happening with this project with release of marketplace and  #NEST.\\n#FeedToEarn . \\n #birdzarmy \\n #luna #BTC #...   \n",
       "\n",
       "   tweet_intent  \n",
       "0     Community  \n",
       "1      Giveaway  \n",
       "2  Appreciation  \n",
       "3     Community  \n",
       "4     Community  "
      ]
     },
     "execution_count": 15,
     "metadata": {},
     "output_type": "execute_result"
    }
   ],
   "source": [
    "df.head()"
   ]
  },
  {
   "cell_type": "code",
   "execution_count": 16,
   "id": "89607316",
   "metadata": {},
   "outputs": [
    {
     "data": {
      "text/plain": [
       "Community         43.076253\n",
       "Giveaway          21.834918\n",
       "Appreciation      17.071728\n",
       "Whitelist          8.633930\n",
       "Presale            5.299697\n",
       "Done               3.164045\n",
       "pinksale           0.494998\n",
       "Interested         0.286414\n",
       "Launching Soon     0.138018\n",
       "Name: tweet_intent, dtype: float64"
      ]
     },
     "execution_count": 16,
     "metadata": {},
     "output_type": "execute_result"
    }
   ],
   "source": [
    "# checking the distribution of tweet intent into multiclass\n",
    "df['tweet_intent'].value_counts(normalize=True)*100"
   ]
  },
  {
   "cell_type": "code",
   "execution_count": 17,
   "id": "74363be7",
   "metadata": {},
   "outputs": [
    {
     "data": {
      "text/plain": [
       "Index(['Community', 'Giveaway', 'Appreciation', 'Whitelist', 'Presale', 'Done',\n",
       "       'pinksale', 'Interested', 'Launching Soon'],\n",
       "      dtype='object')"
      ]
     },
     "execution_count": 17,
     "metadata": {},
     "output_type": "execute_result"
    }
   ],
   "source": [
    "df['tweet_intent'].value_counts().index"
   ]
  },
  {
   "cell_type": "markdown",
   "id": "ca86c43d",
   "metadata": {},
   "source": [
    "We will drop 'Done','pinksale', 'Interested', 'Launching Soon' since it's unnecesarily will effect our model"
   ]
  },
  {
   "cell_type": "code",
   "execution_count": 18,
   "id": "33482df3",
   "metadata": {},
   "outputs": [],
   "source": [
    "def mask(value):\n",
    "    return False if value in ['Done','pinksale', 'Interested', 'Launching Soon'] else True\n",
    "masked = df.tweet_intent.apply(mask)"
   ]
  },
  {
   "cell_type": "code",
   "execution_count": 19,
   "id": "f1b957d8",
   "metadata": {},
   "outputs": [],
   "source": [
    "df = df[masked]"
   ]
  },
  {
   "cell_type": "code",
   "execution_count": 20,
   "id": "49890684",
   "metadata": {},
   "outputs": [
    {
     "data": {
      "text/plain": [
       "<AxesSubplot:xlabel='tweet_intent', ylabel='count'>"
      ]
     },
     "execution_count": 20,
     "metadata": {},
     "output_type": "execute_result"
    },
    {
     "data": {
      "image/png": "[encoded data removed]",
      "text/plain": [
       "<Figure size 864x432 with 1 Axes>"
      ]
     },
     "metadata": {
      "needs_background": "light"
     },
     "output_type": "display_data"
    }
   ],
   "source": [
    "plt.figure(figsize=(12,6))\n",
    "sns.countplot(x=\"tweet_intent\", data=df)"
   ]
  },
  {
   "cell_type": "code",
   "execution_count": 21,
   "id": "9500be58",
   "metadata": {},
   "outputs": [],
   "source": [
    "dict = {'Community':0, 'Giveaway':1, 'Appreciation':2, 'Whitelist':3, 'Presale':4}\n",
    "df['tweet_intent']= df['tweet_intent'].map(dict)"
   ]
  },
  {
   "cell_type": "code",
   "execution_count": 22,
   "id": "f4b5848c",
   "metadata": {},
   "outputs": [],
   "source": [
    "def cleaner(tweet):\n",
    "    tweet = ' '.join(re.sub(\"(\\w+:\\/\\/\\S+)\", \" \", tweet).split()) #Remove http links\n",
    "    tweet =' '.join(re.sub(\"(@[A-Za-z0-9]+)|(#[A-Za-z0-9]+)\", \" \", tweet).split()) #Remove @ and # words\n",
    "    tweet = ' '.join(re.sub(\"[\\.\\,\\!\\?\\:\\;\\-\\=]\", \" \", tweet).split()) #Remove http links\n",
    "    tweet = ''.join(c for c in tweet if c not in emoji.UNICODE_EMOJI['en'])\n",
    "    tweet = re.sub(\"[^a-zA-Z0-9']\",\" \", tweet) #keeping only english letters and numbers\n",
    "    tweet = \" \".join([word for word in tweet.strip().split()])\n",
    "    tweet = tweet.lower()\n",
    "    \n",
    "    return tweet"
   ]
  },
  {
   "cell_type": "markdown",
   "id": "2fb769f9",
   "metadata": {},
   "source": [
    "to correct the misspelled words but just checking that each character should occur not more than 2 times in every word"
   ]
  },
  {
   "cell_type": "code",
   "execution_count": 23,
   "id": "66c17130",
   "metadata": {},
   "outputs": [],
   "source": [
    "df['clean'] = df['tweet_text'].map(lambda x: cleaner(x))"
   ]
  },
  {
   "cell_type": "code",
   "execution_count": 24,
   "id": "291233f2",
   "metadata": {},
   "outputs": [],
   "source": [
    "#words like lfgggggg"
   ]
  },
  {
   "cell_type": "code",
   "execution_count": 25,
   "id": "58a5b774",
   "metadata": {},
   "outputs": [],
   "source": [
    "import itertools\n",
    "def mis_spelled_words(tweet):\n",
    "    return ''.join(''.join(s)[:2] for _, s in itertools.groupby(tweet))"
   ]
  },
  {
   "cell_type": "markdown",
   "id": "8f054d3b",
   "metadata": {},
   "source": [
    " In order to remove strings such as 8nfl6gvp4rfnh1e5ssjgcjeyb8hhgtyxst82nxk3pdr4 which does\n",
    " not add value and also to remove 2 letter word"
   ]
  },
  {
   "cell_type": "code",
   "execution_count": 27,
   "id": "2d4410b2",
   "metadata": {},
   "outputs": [],
   "source": [
    "def remove_mixed_words(sent):\n",
    "    res = []\n",
    "    for word in sent.split():\n",
    "        if word.isnumeric() or word.isalpha():\n",
    "            if len(word) != 1:\n",
    "                res.append(word)\n",
    "        else:\n",
    "            res.append(\"\")\n",
    "    return \" \".join(res)"
   ]
  },
  {
   "cell_type": "markdown",
   "id": "777ef570",
   "metadata": {},
   "source": [
    "let's test the function"
   ]
  },
  {
   "cell_type": "code",
   "execution_count": 26,
   "id": "9012792b",
   "metadata": {},
   "outputs": [
    {
     "data": {
      "text/plain": [
       "'the bridged 9999 sold gt price 2 2 s l 89 01 rank m 9159 rank hr n r fp 2 1 s l owner 8nfl6gvp4rfnh1e5ssjgcjeyb8hhgtyxst82nxk3pdr4 link gt'"
      ]
     },
     "execution_count": 26,
     "metadata": {},
     "output_type": "execute_result"
    }
   ],
   "source": [
    "sent = df['clean'][6]\n",
    "sent"
   ]
  },
  {
   "cell_type": "code",
   "execution_count": 28,
   "id": "ab133766",
   "metadata": {},
   "outputs": [
    {
     "name": "stdout",
     "output_type": "stream",
     "text": [
      "the bridged 9999 sold gt price 89 01 rank 9159 rank hr fp owner  link gt\n"
     ]
    }
   ],
   "source": [
    "print(remove_mixed_words(sent))"
   ]
  },
  {
   "cell_type": "markdown",
   "id": "6ffb00d5",
   "metadata": {},
   "source": [
    "Let's apply all these functions on tweets"
   ]
  },
  {
   "cell_type": "code",
   "execution_count": 29,
   "id": "e95b0a13",
   "metadata": {},
   "outputs": [],
   "source": [
    "df['clean'] = df['clean'].map(lambda x: mis_spelled_words(x))"
   ]
  },
  {
   "cell_type": "code",
   "execution_count": 30,
   "id": "9d139155",
   "metadata": {},
   "outputs": [],
   "source": [
    "df['clean'] = df['clean'].map(lambda x: remove_mixed_words(x))"
   ]
  },
  {
   "cell_type": "markdown",
   "id": "a7bd20e2",
   "metadata": {},
   "source": [
    "We have sucessfully removed all the missplelled words"
   ]
  },
  {
   "cell_type": "code",
   "execution_count": 31,
   "id": "9981a6ae",
   "metadata": {},
   "outputs": [],
   "source": [
    "new_df = df[['clean', 'tweet_intent']].copy()"
   ]
  },
  {
   "cell_type": "code",
   "execution_count": 32,
   "id": "341f555c",
   "metadata": {},
   "outputs": [
    {
     "data": {
      "text/html": [
       "<div>\n",
       "<style scoped>\n",
       "    .dataframe tbody tr th:only-of-type {\n",
       "        vertical-align: middle;\n",
       "    }\n",
       "\n",
       "    .dataframe tbody tr th {\n",
       "        vertical-align: top;\n",
       "    }\n",
       "\n",
       "    .dataframe thead th {\n",
       "        text-align: right;\n",
       "    }\n",
       "</style>\n",
       "<table border=\"1\" class=\"dataframe\">\n",
       "  <thead>\n",
       "    <tr style=\"text-align: right;\">\n",
       "      <th></th>\n",
       "      <th>clean</th>\n",
       "      <th>tweet_intent</th>\n",
       "    </tr>\n",
       "  </thead>\n",
       "  <tbody>\n",
       "    <tr>\n",
       "      <th>0</th>\n",
       "      <td>brody nft bowie el krypto new cryptocurrency was born by fans of the chihuahua meme community  just simply pets love and keep from each transaction which will be automatically distributed ca  bsc tg</td>\n",
       "      <td>0</td>\n",
       "    </tr>\n",
       "    <tr>\n",
       "      <th>1</th>\n",
       "      <td>need sick character art rts</td>\n",
       "      <td>1</td>\n",
       "    </tr>\n",
       "    <tr>\n",
       "      <th>2</th>\n",
       "      <td>hulk nft great choice on tesla good luck</td>\n",
       "      <td>2</td>\n",
       "    </tr>\n",
       "    <tr>\n",
       "      <th>3</th>\n",
       "      <td>the first project in crypto with move to earn big things happening with this project with release of marketplace and</td>\n",
       "      <td>0</td>\n",
       "    </tr>\n",
       "    <tr>\n",
       "      <th>4</th>\n",
       "      <td>the first project in crypto with move to earn big things happening with this project with release of marketplace and</td>\n",
       "      <td>0</td>\n",
       "    </tr>\n",
       "    <tr>\n",
       "      <th>5</th>\n",
       "      <td>just registered for the saphire on nft</td>\n",
       "      <td>4</td>\n",
       "    </tr>\n",
       "    <tr>\n",
       "      <th>6</th>\n",
       "      <td>the bridged 99 sold gt price 89 01 rank 9159 rank hr fp owner  link gt</td>\n",
       "      <td>1</td>\n",
       "    </tr>\n",
       "    <tr>\n",
       "      <th>7</th>\n",
       "      <td>project 21 the best gamefi project on bsc multistage deflation tool  multi feature nft app on appstore and google play presale in august  is going to the moon whitelist tg</td>\n",
       "      <td>3</td>\n",
       "    </tr>\n",
       "    <tr>\n",
       "      <th>8</th>\n",
       "      <td>feature it on we have great community of nft artists and nft collectors</td>\n",
       "      <td>0</td>\n",
       "    </tr>\n",
       "    <tr>\n",
       "      <th>9</th>\n",
       "      <td>project 21 the best gamefi project on bsc multistage deflation tool  multi feature nft app on appstore and google play presale in august  is going to the moon whitelist tg</td>\n",
       "      <td>3</td>\n",
       "    </tr>\n",
       "    <tr>\n",
       "      <th>10</th>\n",
       "      <td>nft depends</td>\n",
       "      <td>2</td>\n",
       "    </tr>\n",
       "    <tr>\n",
       "      <th>11</th>\n",
       "      <td>promote it on community</td>\n",
       "      <td>0</td>\n",
       "    </tr>\n",
       "    <tr>\n",
       "      <th>12</th>\n",
       "      <td>just registered for the raffle free mint and super low supply via nft</td>\n",
       "      <td>4</td>\n",
       "    </tr>\n",
       "    <tr>\n",
       "      <th>13</th>\n",
       "      <td>definitely not gonna missed this more than what nft lfgg</td>\n",
       "      <td>0</td>\n",
       "    </tr>\n",
       "    <tr>\n",
       "      <th>14</th>\n",
       "      <td>sol project 21 the best gamefi project on bsc multistage deflation tool  multi feature nft app on appstore and google play presale in august  is going to the moon whitelist tg</td>\n",
       "      <td>3</td>\n",
       "    </tr>\n",
       "    <tr>\n",
       "      <th>15</th>\n",
       "      <td>gt gt gt am ready to join lt lt lt via nft</td>\n",
       "      <td>4</td>\n",
       "    </tr>\n",
       "    <tr>\n",
       "      <th>16</th>\n",
       "      <td>promote it on community</td>\n",
       "      <td>0</td>\n",
       "    </tr>\n",
       "    <tr>\n",
       "      <th>17</th>\n",
       "      <td>the comedy church has rewarded those apostles who took the leap of faith if you signed onto our whitelist check your wallet on from there head to our discord and start submitting your prayers dot ...</td>\n",
       "      <td>3</td>\n",
       "    </tr>\n",
       "    <tr>\n",
       "      <th>18</th>\n",
       "      <td>project 21 the best gamefi project on bsc multistage deflation tool  multi feature nft app on appstore and google play presale in august  is going to the moon whitelist tg</td>\n",
       "      <td>3</td>\n",
       "    </tr>\n",
       "    <tr>\n",
       "      <th>19</th>\n",
       "      <td>one of the top nft projects in space runner game not only brings you the most enjoyable  game experience but also has the most fun and active community in space be part of our family join us on te...</td>\n",
       "      <td>0</td>\n",
       "    </tr>\n",
       "    <tr>\n",
       "      <th>20</th>\n",
       "      <td>project 21 the best gamefi project on bsc multistage deflation tool  multi feature nft app on appstore and google play presale in august  is going to the moon whitelist tg</td>\n",
       "      <td>3</td>\n",
       "    </tr>\n",
       "    <tr>\n",
       "      <th>21</th>\n",
       "      <td>project 21 the best gamefi project on bsc multistage deflation tool  multi feature nft app on appstore and google play presale in august  is going to the moon whitelist tg</td>\n",
       "      <td>3</td>\n",
       "    </tr>\n",
       "    <tr>\n",
       "      <th>22</th>\n",
       "      <td>feature it on we have great community of nft artists and nft collectors</td>\n",
       "      <td>0</td>\n",
       "    </tr>\n",
       "    <tr>\n",
       "      <th>23</th>\n",
       "      <td>dapperundeadsquad is my first non generative pfp nft collection consisting of 100 sharp dressed zombies wandering the hashgraph minting on</td>\n",
       "      <td>0</td>\n",
       "    </tr>\n",
       "    <tr>\n",
       "      <th>24</th>\n",
       "      <td>nft hero world play to earn game on bsc safu badge testnet game released mainnet game released right after listing on pancakeswap marketplace low tax whitelist</td>\n",
       "      <td>3</td>\n",
       "    </tr>\n",
       "    <tr>\n",
       "      <th>25</th>\n",
       "      <td>to celebrate new community we are giving away raffle to first 300 members  be late to enter follow art join telegram rt this post visit</td>\n",
       "      <td>1</td>\n",
       "    </tr>\n",
       "    <tr>\n",
       "      <th>26</th>\n",
       "      <td>nft good to hear fam</td>\n",
       "      <td>2</td>\n",
       "    </tr>\n",
       "    <tr>\n",
       "      <th>27</th>\n",
       "      <td>nft cryptocurrency was born by fans of the chihuahua meme community  just simply pets love and keep from each transaction which will be automatically distributed to the loving animal fund ca  bsc</td>\n",
       "      <td>0</td>\n",
       "    </tr>\n",
       "    <tr>\n",
       "      <th>28</th>\n",
       "      <td>promote it on community</td>\n",
       "      <td>0</td>\n",
       "    </tr>\n",
       "    <tr>\n",
       "      <th>29</th>\n",
       "      <td>the first project in crypto with move to earn big things happening with this project with release of marketplace and</td>\n",
       "      <td>0</td>\n",
       "    </tr>\n",
       "    <tr>\n",
       "      <th>30</th>\n",
       "      <td>follow the duck like amp share mint will only unlock with the first 22 followers stay idiot stay ducked</td>\n",
       "      <td>1</td>\n",
       "    </tr>\n",
       "    <tr>\n",
       "      <th>31</th>\n",
       "      <td>tried my best to list some collected  on secondary  had some success with it too would love for my pieces to be collected from  did however try to list one of your pieces death and chaos received...</td>\n",
       "      <td>1</td>\n",
       "    </tr>\n",
       "    <tr>\n",
       "      <th>32</th>\n",
       "      <td>art share post an art you re proud of little bit about yourself tag friends optional nft light nsfw okay put</td>\n",
       "      <td>0</td>\n",
       "    </tr>\n",
       "    <tr>\n",
       "      <th>33</th>\n",
       "      <td>promote it on community</td>\n",
       "      <td>0</td>\n",
       "    </tr>\n",
       "    <tr>\n",
       "      <th>34</th>\n",
       "      <td>promote it on community</td>\n",
       "      <td>0</td>\n",
       "    </tr>\n",
       "    <tr>\n",
       "      <th>35</th>\n",
       "      <td>eth project 21 the best gamefi project on bsc multistage deflation tool  multi feature nft app on appstore and google play presale in august  is going to the moon whitelist tg</td>\n",
       "      <td>3</td>\n",
       "    </tr>\n",
       "    <tr>\n",
       "      <th>36</th>\n",
       "      <td>sfty  12  characters guys might want to check out and participate on their whitelist giveaway</td>\n",
       "      <td>1</td>\n",
       "    </tr>\n",
       "    <tr>\n",
       "      <th>37</th>\n",
       "      <td>whitelist winners</td>\n",
       "      <td>3</td>\n",
       "    </tr>\n",
       "    <tr>\n",
       "      <th>39</th>\n",
       "      <td>project 21 the best gamefi project on bsc multistage deflation tool  multi feature nft app on appstore and google play presale in august  is going to the moon whitelist tg</td>\n",
       "      <td>3</td>\n",
       "    </tr>\n",
       "    <tr>\n",
       "      <th>40</th>\n",
       "      <td>nft newly launched crypto gem get an early entry join tg</td>\n",
       "      <td>3</td>\n",
       "    </tr>\n",
       "    <tr>\n",
       "      <th>41</th>\n",
       "      <td>nft hmm interesting</td>\n",
       "      <td>2</td>\n",
       "    </tr>\n",
       "    <tr>\n",
       "      <th>42</th>\n",
       "      <td>just registered for the raffle free mint and super low supply via nft</td>\n",
       "      <td>4</td>\n",
       "    </tr>\n",
       "    <tr>\n",
       "      <th>43</th>\n",
       "      <td>la la nft thanks troll</td>\n",
       "      <td>2</td>\n",
       "    </tr>\n",
       "    <tr>\n",
       "      <th>44</th>\n",
       "      <td>promote it on community</td>\n",
       "      <td>0</td>\n",
       "    </tr>\n",
       "    <tr>\n",
       "      <th>45</th>\n",
       "      <td>diva the first project in crypto with move to earn big things happening with this project with release of marketplace and</td>\n",
       "      <td>0</td>\n",
       "    </tr>\n",
       "    <tr>\n",
       "      <th>46</th>\n",
       "      <td>project 21 the best gamefi project on bsc multistage deflation tool  multi feature nft app on appstore and google play presale in august  is going to the moon whitelist tg</td>\n",
       "      <td>3</td>\n",
       "    </tr>\n",
       "    <tr>\n",
       "      <th>48</th>\n",
       "      <td>noah project 21 the best gamefi project on bsc multistage deflation tool  multi feature nft app on appstore and google play presale in august  is going to the moon whitelist tg</td>\n",
       "      <td>3</td>\n",
       "    </tr>\n",
       "    <tr>\n",
       "      <th>49</th>\n",
       "      <td>project 21 the best gamefi project on bsc multistage deflation tool  multi feature nft app on appstore and google play presale in august  is going to the moon whitelist tg</td>\n",
       "      <td>3</td>\n",
       "    </tr>\n",
       "    <tr>\n",
       "      <th>50</th>\n",
       "      <td>hkkt feature it on we have great community of nft artists and nft collectors</td>\n",
       "      <td>0</td>\n",
       "    </tr>\n",
       "    <tr>\n",
       "      <th>51</th>\n",
       "      <td>to celebrate new community we are giving away raffle to first 300 members  be late to enter follow art join telegram rt this post visit</td>\n",
       "      <td>1</td>\n",
       "    </tr>\n",
       "  </tbody>\n",
       "</table>\n",
       "</div>"
      ],
      "text/plain": [
       "                                                                                                                                                                                                      clean  \\\n",
       "0    brody nft bowie el krypto new cryptocurrency was born by fans of the chihuahua meme community  just simply pets love and keep from each transaction which will be automatically distributed ca  bsc tg   \n",
       "1                                                                                                                                                                               need sick character art rts   \n",
       "2                                                                                                                                                                  hulk nft great choice on tesla good luck   \n",
       "3                                                                                      the first project in crypto with move to earn big things happening with this project with release of marketplace and   \n",
       "4                                                                                      the first project in crypto with move to earn big things happening with this project with release of marketplace and   \n",
       "5                                                                                                                                                                    just registered for the saphire on nft   \n",
       "6                                                                                                                                    the bridged 99 sold gt price 89 01 rank 9159 rank hr fp owner  link gt   \n",
       "7                               project 21 the best gamefi project on bsc multistage deflation tool  multi feature nft app on appstore and google play presale in august  is going to the moon whitelist tg   \n",
       "8                                                                                                                                   feature it on we have great community of nft artists and nft collectors   \n",
       "9                               project 21 the best gamefi project on bsc multistage deflation tool  multi feature nft app on appstore and google play presale in august  is going to the moon whitelist tg   \n",
       "10                                                                                                                                                                                              nft depends   \n",
       "11                                                                                                                                                                                  promote it on community   \n",
       "12                                                                                                                                    just registered for the raffle free mint and super low supply via nft   \n",
       "13                                                                                                                                                 definitely not gonna missed this more than what nft lfgg   \n",
       "14                          sol project 21 the best gamefi project on bsc multistage deflation tool  multi feature nft app on appstore and google play presale in august  is going to the moon whitelist tg   \n",
       "15                                                                                                                                                               gt gt gt am ready to join lt lt lt via nft   \n",
       "16                                                                                                                                                                                  promote it on community   \n",
       "17  the comedy church has rewarded those apostles who took the leap of faith if you signed onto our whitelist check your wallet on from there head to our discord and start submitting your prayers dot ...   \n",
       "18                              project 21 the best gamefi project on bsc multistage deflation tool  multi feature nft app on appstore and google play presale in august  is going to the moon whitelist tg   \n",
       "19  one of the top nft projects in space runner game not only brings you the most enjoyable  game experience but also has the most fun and active community in space be part of our family join us on te...   \n",
       "20                              project 21 the best gamefi project on bsc multistage deflation tool  multi feature nft app on appstore and google play presale in august  is going to the moon whitelist tg   \n",
       "21                              project 21 the best gamefi project on bsc multistage deflation tool  multi feature nft app on appstore and google play presale in august  is going to the moon whitelist tg   \n",
       "22                                                                                                                                  feature it on we have great community of nft artists and nft collectors   \n",
       "23                                                               dapperundeadsquad is my first non generative pfp nft collection consisting of 100 sharp dressed zombies wandering the hashgraph minting on   \n",
       "24                                          nft hero world play to earn game on bsc safu badge testnet game released mainnet game released right after listing on pancakeswap marketplace low tax whitelist   \n",
       "25                                                                  to celebrate new community we are giving away raffle to first 300 members  be late to enter follow art join telegram rt this post visit   \n",
       "26                                                                                                                                                                                     nft good to hear fam   \n",
       "27      nft cryptocurrency was born by fans of the chihuahua meme community  just simply pets love and keep from each transaction which will be automatically distributed to the loving animal fund ca  bsc   \n",
       "28                                                                                                                                                                                  promote it on community   \n",
       "29                                                                                     the first project in crypto with move to earn big things happening with this project with release of marketplace and   \n",
       "30                                                                                                  follow the duck like amp share mint will only unlock with the first 22 followers stay idiot stay ducked   \n",
       "31   tried my best to list some collected  on secondary  had some success with it too would love for my pieces to be collected from  did however try to list one of your pieces death and chaos received...   \n",
       "32                                                                                             art share post an art you re proud of little bit about yourself tag friends optional nft light nsfw okay put   \n",
       "33                                                                                                                                                                                  promote it on community   \n",
       "34                                                                                                                                                                                  promote it on community   \n",
       "35                          eth project 21 the best gamefi project on bsc multistage deflation tool  multi feature nft app on appstore and google play presale in august  is going to the moon whitelist tg   \n",
       "36                                                                                                            sfty  12  characters guys might want to check out and participate on their whitelist giveaway   \n",
       "37                                                                                                                                                                                       whitelist winners    \n",
       "39                              project 21 the best gamefi project on bsc multistage deflation tool  multi feature nft app on appstore and google play presale in august  is going to the moon whitelist tg   \n",
       "40                                                                                                                                                 nft newly launched crypto gem get an early entry join tg   \n",
       "41                                                                                                                                                                                      nft hmm interesting   \n",
       "42                                                                                                                                    just registered for the raffle free mint and super low supply via nft   \n",
       "43                                                                                                                                                                                   la la nft thanks troll   \n",
       "44                                                                                                                                                                                  promote it on community   \n",
       "45                                                                                diva the first project in crypto with move to earn big things happening with this project with release of marketplace and   \n",
       "46                              project 21 the best gamefi project on bsc multistage deflation tool  multi feature nft app on appstore and google play presale in august  is going to the moon whitelist tg   \n",
       "48                         noah project 21 the best gamefi project on bsc multistage deflation tool  multi feature nft app on appstore and google play presale in august  is going to the moon whitelist tg   \n",
       "49                              project 21 the best gamefi project on bsc multistage deflation tool  multi feature nft app on appstore and google play presale in august  is going to the moon whitelist tg   \n",
       "50                                                                                                                             hkkt feature it on we have great community of nft artists and nft collectors   \n",
       "51                                                                  to celebrate new community we are giving away raffle to first 300 members  be late to enter follow art join telegram rt this post visit   \n",
       "\n",
       "    tweet_intent  \n",
       "0              0  \n",
       "1              1  \n",
       "2              2  \n",
       "3              0  \n",
       "4              0  \n",
       "5              4  \n",
       "6              1  \n",
       "7              3  \n",
       "8              0  \n",
       "9              3  \n",
       "10             2  \n",
       "11             0  \n",
       "12             4  \n",
       "13             0  \n",
       "14             3  \n",
       "15             4  \n",
       "16             0  \n",
       "17             3  \n",
       "18             3  \n",
       "19             0  \n",
       "20             3  \n",
       "21             3  \n",
       "22             0  \n",
       "23             0  \n",
       "24             3  \n",
       "25             1  \n",
       "26             2  \n",
       "27             0  \n",
       "28             0  \n",
       "29             0  \n",
       "30             1  \n",
       "31             1  \n",
       "32             0  \n",
       "33             0  \n",
       "34             0  \n",
       "35             3  \n",
       "36             1  \n",
       "37             3  \n",
       "39             3  \n",
       "40             3  \n",
       "41             2  \n",
       "42             4  \n",
       "43             2  \n",
       "44             0  \n",
       "45             0  \n",
       "46             3  \n",
       "48             3  \n",
       "49             3  \n",
       "50             0  \n",
       "51             1  "
      ]
     },
     "execution_count": 32,
     "metadata": {},
     "output_type": "execute_result"
    }
   ],
   "source": [
    "new_df.head(50)"
   ]
  },
  {
   "cell_type": "markdown",
   "id": "16f3346a",
   "metadata": {},
   "source": [
    "Let's have a Glance at stop words"
   ]
  },
  {
   "cell_type": "code",
   "execution_count": 33,
   "id": "ab509bd4",
   "metadata": {},
   "outputs": [
    {
     "name": "stderr",
     "output_type": "stream",
     "text": [
      "[nltk_data] Downloading package stopwords to\n",
      "[nltk_data]     C:\\Users\\Manju\\AppData\\Roaming\\nltk_data...\n",
      "[nltk_data]   Package stopwords is already up-to-date!\n"
     ]
    }
   ],
   "source": [
    "import nltk\n",
    "nltk.download('stopwords')\n",
    "from nltk.corpus import stopwords"
   ]
  },
  {
   "cell_type": "code",
   "execution_count": 34,
   "id": "a3620780",
   "metadata": {},
   "outputs": [
    {
     "data": {
      "text/plain": [
       "179"
      ]
     },
     "execution_count": 34,
     "metadata": {},
     "output_type": "execute_result"
    }
   ],
   "source": [
    "len(stopwords.words('english'))"
   ]
  },
  {
   "cell_type": "code",
   "execution_count": 35,
   "id": "36416bb9",
   "metadata": {},
   "outputs": [
    {
     "data": {
      "text/plain": [
       "['i',\n",
       " 'me',\n",
       " 'my',\n",
       " 'myself',\n",
       " 'we',\n",
       " 'our',\n",
       " 'ours',\n",
       " 'ourselves',\n",
       " 'you',\n",
       " \"you're\",\n",
       " \"you've\",\n",
       " \"you'll\",\n",
       " \"you'd\",\n",
       " 'your',\n",
       " 'yours',\n",
       " 'yourself',\n",
       " 'yourselves',\n",
       " 'he',\n",
       " 'him',\n",
       " 'his',\n",
       " 'himself',\n",
       " 'she',\n",
       " \"she's\",\n",
       " 'her',\n",
       " 'hers',\n",
       " 'herself',\n",
       " 'it',\n",
       " \"it's\",\n",
       " 'its',\n",
       " 'itself',\n",
       " 'they',\n",
       " 'them',\n",
       " 'their',\n",
       " 'theirs',\n",
       " 'themselves',\n",
       " 'what',\n",
       " 'which',\n",
       " 'who',\n",
       " 'whom',\n",
       " 'this',\n",
       " 'that',\n",
       " \"that'll\",\n",
       " 'these',\n",
       " 'those',\n",
       " 'am',\n",
       " 'is',\n",
       " 'are',\n",
       " 'was',\n",
       " 'were',\n",
       " 'be',\n",
       " 'been',\n",
       " 'being',\n",
       " 'have',\n",
       " 'has',\n",
       " 'had',\n",
       " 'having',\n",
       " 'do',\n",
       " 'does',\n",
       " 'did',\n",
       " 'doing',\n",
       " 'a',\n",
       " 'an',\n",
       " 'the',\n",
       " 'and',\n",
       " 'but',\n",
       " 'if',\n",
       " 'or',\n",
       " 'because',\n",
       " 'as',\n",
       " 'until',\n",
       " 'while',\n",
       " 'of',\n",
       " 'at',\n",
       " 'by',\n",
       " 'for',\n",
       " 'with',\n",
       " 'about',\n",
       " 'against',\n",
       " 'between',\n",
       " 'into',\n",
       " 'through',\n",
       " 'during',\n",
       " 'before',\n",
       " 'after',\n",
       " 'above',\n",
       " 'below',\n",
       " 'to',\n",
       " 'from',\n",
       " 'up',\n",
       " 'down',\n",
       " 'in',\n",
       " 'out',\n",
       " 'on',\n",
       " 'off',\n",
       " 'over',\n",
       " 'under',\n",
       " 'again',\n",
       " 'further',\n",
       " 'then',\n",
       " 'once',\n",
       " 'here',\n",
       " 'there',\n",
       " 'when',\n",
       " 'where',\n",
       " 'why',\n",
       " 'how',\n",
       " 'all',\n",
       " 'any',\n",
       " 'both',\n",
       " 'each',\n",
       " 'few',\n",
       " 'more',\n",
       " 'most',\n",
       " 'other',\n",
       " 'some',\n",
       " 'such',\n",
       " 'no',\n",
       " 'nor',\n",
       " 'not',\n",
       " 'only',\n",
       " 'own',\n",
       " 'same',\n",
       " 'so',\n",
       " 'than',\n",
       " 'too',\n",
       " 'very',\n",
       " 's',\n",
       " 't',\n",
       " 'can',\n",
       " 'will',\n",
       " 'just',\n",
       " 'don',\n",
       " \"don't\",\n",
       " 'should',\n",
       " \"should've\",\n",
       " 'now',\n",
       " 'd',\n",
       " 'll',\n",
       " 'm',\n",
       " 'o',\n",
       " 're',\n",
       " 've',\n",
       " 'y',\n",
       " 'ain',\n",
       " 'aren',\n",
       " \"aren't\",\n",
       " 'couldn',\n",
       " \"couldn't\",\n",
       " 'didn',\n",
       " \"didn't\",\n",
       " 'doesn',\n",
       " \"doesn't\",\n",
       " 'hadn',\n",
       " \"hadn't\",\n",
       " 'hasn',\n",
       " \"hasn't\",\n",
       " 'haven',\n",
       " \"haven't\",\n",
       " 'isn',\n",
       " \"isn't\",\n",
       " 'ma',\n",
       " 'mightn',\n",
       " \"mightn't\",\n",
       " 'mustn',\n",
       " \"mustn't\",\n",
       " 'needn',\n",
       " \"needn't\",\n",
       " 'shan',\n",
       " \"shan't\",\n",
       " 'shouldn',\n",
       " \"shouldn't\",\n",
       " 'wasn',\n",
       " \"wasn't\",\n",
       " 'weren',\n",
       " \"weren't\",\n",
       " 'won',\n",
       " \"won't\",\n",
       " 'wouldn',\n",
       " \"wouldn't\"]"
      ]
     },
     "execution_count": 35,
     "metadata": {},
     "output_type": "execute_result"
    }
   ],
   "source": [
    "stopwords.words('english')"
   ]
  },
  {
   "cell_type": "code",
   "execution_count": 36,
   "id": "36b064d6",
   "metadata": {},
   "outputs": [],
   "source": [
    "new_df = new_df.reset_index()"
   ]
  },
  {
   "cell_type": "markdown",
   "id": "715a38bf",
   "metadata": {},
   "source": [
    "Now applying to whole 92k rows"
   ]
  },
  {
   "cell_type": "code",
   "execution_count": 37,
   "id": "0c6a852f",
   "metadata": {},
   "outputs": [
    {
     "name": "stderr",
     "output_type": "stream",
     "text": [
      "100%|███████████████████████████████████████████████████████████████████████████| 92429/92429 [09:39<00:00, 159.38it/s]\n"
     ]
    }
   ],
   "source": [
    "import nltk\n",
    "# nltk.download('stopwords')\n",
    "from nltk.corpus import stopwords\n",
    "from nltk.stem.porter import PorterStemmer\n",
    "ps = PorterStemmer()\n",
    "from tqdm import tqdm\n",
    "corpus = []\n",
    "for i in tqdm(range(0,len(new_df))):\n",
    "    tweet = new_df['clean'][i]\n",
    "    tweet = tweet.split()\n",
    "    tweet = [ ps.stem(word) for word in tweet if not word in set(stopwords.words('english')) ]\n",
    "    tweet = ' '.join(tweet)\n",
    "    corpus.append(tweet)"
   ]
  },
  {
   "cell_type": "markdown",
   "id": "17064682",
   "metadata": {},
   "source": [
    "Let's check our corpus after removing stopwords"
   ]
  },
  {
   "cell_type": "code",
   "execution_count": 38,
   "id": "60bebb1b",
   "metadata": {},
   "outputs": [
    {
     "data": {
      "text/plain": [
       "['brodi nft bowi el krypto new cryptocurr born fan chihuahua meme commun simpli pet love keep transact automat distribut ca bsc tg',\n",
       " 'need sick charact art rt',\n",
       " 'hulk nft great choic tesla good luck',\n",
       " 'first project crypto move earn big thing happen project releas marketplac',\n",
       " 'first project crypto move earn big thing happen project releas marketplac',\n",
       " 'regist saphir nft',\n",
       " 'bridg 99 sold gt price 89 01 rank 9159 rank hr fp owner link gt',\n",
       " 'project 21 best gamefi project bsc multistag deflat tool multi featur nft app appstor googl play presal august go moon whitelist tg',\n",
       " 'featur great commun nft artist nft collector',\n",
       " 'project 21 best gamefi project bsc multistag deflat tool multi featur nft app appstor googl play presal august go moon whitelist tg']"
      ]
     },
     "execution_count": 38,
     "metadata": {},
     "output_type": "execute_result"
    }
   ],
   "source": [
    "corpus[:10]"
   ]
  },
  {
   "cell_type": "code",
   "execution_count": 39,
   "id": "1d65af33",
   "metadata": {},
   "outputs": [
    {
     "data": {
      "text/html": [
       "<div>\n",
       "<style scoped>\n",
       "    .dataframe tbody tr th:only-of-type {\n",
       "        vertical-align: middle;\n",
       "    }\n",
       "\n",
       "    .dataframe tbody tr th {\n",
       "        vertical-align: top;\n",
       "    }\n",
       "\n",
       "    .dataframe thead th {\n",
       "        text-align: right;\n",
       "    }\n",
       "</style>\n",
       "<table border=\"1\" class=\"dataframe\">\n",
       "  <thead>\n",
       "    <tr style=\"text-align: right;\">\n",
       "      <th></th>\n",
       "      <th>corpus</th>\n",
       "    </tr>\n",
       "  </thead>\n",
       "  <tbody>\n",
       "    <tr>\n",
       "      <th>0</th>\n",
       "      <td>brodi nft bowi el krypto new cryptocurr born fan chihuahua meme commun simpli pet love keep transact automat distribut ca bsc tg</td>\n",
       "    </tr>\n",
       "    <tr>\n",
       "      <th>1</th>\n",
       "      <td>need sick charact art rt</td>\n",
       "    </tr>\n",
       "    <tr>\n",
       "      <th>2</th>\n",
       "      <td>hulk nft great choic tesla good luck</td>\n",
       "    </tr>\n",
       "    <tr>\n",
       "      <th>3</th>\n",
       "      <td>first project crypto move earn big thing happen project releas marketplac</td>\n",
       "    </tr>\n",
       "    <tr>\n",
       "      <th>4</th>\n",
       "      <td>first project crypto move earn big thing happen project releas marketplac</td>\n",
       "    </tr>\n",
       "  </tbody>\n",
       "</table>\n",
       "</div>"
      ],
      "text/plain": [
       "                                                                                                                             corpus\n",
       "0  brodi nft bowi el krypto new cryptocurr born fan chihuahua meme commun simpli pet love keep transact automat distribut ca bsc tg\n",
       "1                                                                                                          need sick charact art rt\n",
       "2                                                                                              hulk nft great choic tesla good luck\n",
       "3                                                         first project crypto move earn big thing happen project releas marketplac\n",
       "4                                                         first project crypto move earn big thing happen project releas marketplac"
      ]
     },
     "execution_count": 39,
     "metadata": {},
     "output_type": "execute_result"
    }
   ],
   "source": [
    "corpus_dataset = pd.DataFrame(corpus,columns=['corpus'])\n",
    "corpus_dataset.head()"
   ]
  },
  {
   "cell_type": "markdown",
   "id": "82c9ebdb",
   "metadata": {},
   "source": [
    "Exporting our corpus data to csv"
   ]
  },
  {
   "cell_type": "code",
   "execution_count": 40,
   "id": "422b5824",
   "metadata": {},
   "outputs": [],
   "source": [
    "corpus_dataset['corpus'].to_csv('corpus_dataset.csv',index=False)"
   ]
  },
  {
   "cell_type": "code",
   "execution_count": 41,
   "id": "9b255c58",
   "metadata": {},
   "outputs": [
    {
     "data": {
      "text/plain": [
       "(92429, 1)"
      ]
     },
     "execution_count": 41,
     "metadata": {},
     "output_type": "execute_result"
    }
   ],
   "source": [
    "# shape of corpus\n",
    "corpus_dataset.shape"
   ]
  },
  {
   "cell_type": "code",
   "execution_count": 42,
   "id": "5beb15d1",
   "metadata": {},
   "outputs": [],
   "source": [
    "# feature extraction\n",
    "from sklearn.feature_extraction.text import CountVectorizer\n",
    "bow_vectorizer = CountVectorizer(max_features=1000)"
   ]
  },
  {
   "cell_type": "markdown",
   "id": "50e4fd27",
   "metadata": {},
   "source": [
    "Let's create a bag of words"
   ]
  },
  {
   "cell_type": "code",
   "execution_count": 43,
   "id": "e5c28d01",
   "metadata": {},
   "outputs": [],
   "source": [
    "bow = bow_vectorizer.fit_transform(corpus_dataset['corpus'])"
   ]
  },
  {
   "cell_type": "markdown",
   "id": "dd9c7afd",
   "metadata": {},
   "source": [
    "transform the sparse matrix to array to apply model"
   ]
  },
  {
   "cell_type": "code",
   "execution_count": 44,
   "id": "fb453c50",
   "metadata": {},
   "outputs": [],
   "source": [
    "bow = bow.toarray()"
   ]
  },
  {
   "cell_type": "code",
   "execution_count": 46,
   "id": "c64f233c",
   "metadata": {},
   "outputs": [],
   "source": [
    "from sklearn.model_selection import train_test_split\n",
    "X_train, X_test, y_train, y_test = train_test_split(bow, new_df['tweet_intent'], random_state=42, test_size=0.25)"
   ]
  },
  {
   "cell_type": "markdown",
   "id": "542fb466",
   "metadata": {},
   "source": [
    "### Importing necessary library for model evaluation"
   ]
  },
  {
   "cell_type": "code",
   "execution_count": 47,
   "id": "bfbf67a5",
   "metadata": {},
   "outputs": [],
   "source": [
    "from sklearn.metrics import accuracy_score"
   ]
  },
  {
   "cell_type": "code",
   "execution_count": 48,
   "id": "34224946",
   "metadata": {},
   "outputs": [],
   "source": [
    "from sklearn.ensemble import RandomForestClassifier"
   ]
  },
  {
   "cell_type": "markdown",
   "id": "caebf0af",
   "metadata": {},
   "source": [
    "### RandomForestClassifier"
   ]
  },
  {
   "cell_type": "code",
   "execution_count": 49,
   "id": "bf1beeff",
   "metadata": {},
   "outputs": [],
   "source": [
    "model = RandomForestClassifier(n_estimators=100)"
   ]
  },
  {
   "cell_type": "code",
   "execution_count": 50,
   "id": "ed74f65e",
   "metadata": {},
   "outputs": [
    {
     "data": {
      "text/plain": [
       "RandomForestClassifier()"
      ]
     },
     "execution_count": 50,
     "metadata": {},
     "output_type": "execute_result"
    }
   ],
   "source": [
    "model.fit(X_train, y_train)"
   ]
  },
  {
   "cell_type": "code",
   "execution_count": 51,
   "id": "1457cb40",
   "metadata": {},
   "outputs": [],
   "source": [
    "pred_train = model.predict(X_train)\n",
    "score = accuracy_score(y_train, pred_train)"
   ]
  },
  {
   "cell_type": "code",
   "execution_count": 52,
   "id": "7858a25d",
   "metadata": {},
   "outputs": [
    {
     "name": "stdout",
     "output_type": "stream",
     "text": [
      "TRAINIG RESULTS: \n",
      "===============================\n",
      "ACCURACY SCORE :0.9796\n"
     ]
    }
   ],
   "source": [
    "print(\"TRAINIG RESULTS: \\n===============================\")\n",
    "print(f\"ACCURACY SCORE :{score:.4f}\")"
   ]
  },
  {
   "cell_type": "code",
   "execution_count": 53,
   "id": "66b47f02",
   "metadata": {},
   "outputs": [],
   "source": [
    "pred_test = model.predict(X_test)\n",
    "score = accuracy_score(y_test, pred_test)"
   ]
  },
  {
   "cell_type": "code",
   "execution_count": 54,
   "id": "62e1fbda",
   "metadata": {},
   "outputs": [
    {
     "name": "stdout",
     "output_type": "stream",
     "text": [
      "TESTING RESULTS: \n",
      "===============================\n",
      "ACCURACY SCORE :0.9231\n"
     ]
    }
   ],
   "source": [
    "print(\"TESTING RESULTS: \\n===============================\")\n",
    "print(f\"ACCURACY SCORE :{score:.4f}\")"
   ]
  },
  {
   "cell_type": "markdown",
   "id": "f5872cfe",
   "metadata": {},
   "source": [
    "Hooray!! we have acheived accuracy of 92% on test set and 98% on train set ..there is a slight overfitting but the accuracy of 92% is pretty acceptable "
   ]
  },
  {
   "cell_type": "markdown",
   "id": "b5b18e26",
   "metadata": {},
   "source": [
    "### Now formatting our df"
   ]
  },
  {
   "cell_type": "code",
   "execution_count": 88,
   "id": "a11465ca",
   "metadata": {},
   "outputs": [],
   "source": [
    "df['clean'] = corpus"
   ]
  },
  {
   "cell_type": "markdown",
   "id": "96632c27",
   "metadata": {},
   "source": [
    "mapping tweet intent with labels"
   ]
  },
  {
   "cell_type": "code",
   "execution_count": 90,
   "id": "4db08a8c",
   "metadata": {},
   "outputs": [],
   "source": [
    "dict_tweet = {0:'Community',1:'Giveaway', 2:'Appreciation', 3:'Whitelist', 4:'Presale'}\n",
    "df['tweet_intent'] = df['tweet_intent'].map(dict_tweet)"
   ]
  },
  {
   "cell_type": "code",
   "execution_count": 91,
   "id": "3afac365",
   "metadata": {},
   "outputs": [
    {
     "data": {
      "text/html": [
       "<div>\n",
       "<style scoped>\n",
       "    .dataframe tbody tr th:only-of-type {\n",
       "        vertical-align: middle;\n",
       "    }\n",
       "\n",
       "    .dataframe tbody tr th {\n",
       "        vertical-align: top;\n",
       "    }\n",
       "\n",
       "    .dataframe thead th {\n",
       "        text-align: right;\n",
       "    }\n",
       "</style>\n",
       "<table border=\"1\" class=\"dataframe\">\n",
       "  <thead>\n",
       "    <tr style=\"text-align: right;\">\n",
       "      <th></th>\n",
       "      <th>id</th>\n",
       "      <th>tweet_created_at</th>\n",
       "      <th>tweet_text</th>\n",
       "      <th>tweet_intent</th>\n",
       "      <th>clean</th>\n",
       "    </tr>\n",
       "  </thead>\n",
       "  <tbody>\n",
       "    <tr>\n",
       "      <th>0</th>\n",
       "      <td>1212762</td>\n",
       "      <td>2022-08-06</td>\n",
       "      <td>@crypto_brody @eCoLoGy1990 @MoonrunnersNFT @ItsukiNFT @thelittlesnft @SpaceRiders_NFT @WDoopsies @WomenandWeapons @WoWPixiesNFT @BokiNFT @quirkiesnft @bitcoin_bowie @Kal_El_Krypto_ @sophiegreen86 ...</td>\n",
       "      <td>Community</td>\n",
       "      <td>brodi nft bowi el krypto new cryptocurr born fan chihuahua meme commun simpli pet love keep transact automat distribut ca bsc tg</td>\n",
       "    </tr>\n",
       "    <tr>\n",
       "      <th>1</th>\n",
       "      <td>1212763</td>\n",
       "      <td>2022-08-06</td>\n",
       "      <td>Need Sick Character artâ“#art #artist #Artists #animation #illustrators #illustrations #illustrationart #NFT #NFTGiveaways #3Danimation #3dart #conceptart #Concept #illustrators #SolanaNFTs #Arti...</td>\n",
       "      <td>Giveaway</td>\n",
       "      <td>need sick charact art rt</td>\n",
       "    </tr>\n",
       "    <tr>\n",
       "      <th>2</th>\n",
       "      <td>1212765</td>\n",
       "      <td>2022-08-06</td>\n",
       "      <td>@The_Hulk_NFT @INagotchiNFT @Tesla @killabearsnft @elonmusk Great choice on a Tesla! Good luck!</td>\n",
       "      <td>Appreciation</td>\n",
       "      <td>hulk nft great choic tesla good luck</td>\n",
       "    </tr>\n",
       "    <tr>\n",
       "      <th>3</th>\n",
       "      <td>1212766</td>\n",
       "      <td>2022-08-06</td>\n",
       "      <td>@CryptoBatzNFT @DarekBTW The first project in crypto with move to earn  #AstroBirdz. Big things happening with this project with release of marketplace and  #NEST.\\n#FeedToEarn . \\n #birdzarmy \\n ...</td>\n",
       "      <td>Community</td>\n",
       "      <td>first project crypto move earn big thing happen project releas marketplac</td>\n",
       "    </tr>\n",
       "    <tr>\n",
       "      <th>4</th>\n",
       "      <td>1212767</td>\n",
       "      <td>2022-08-06</td>\n",
       "      <td>@sashadysonn The first project in crypto with move to earn  #AstroBirdz. Big things happening with this project with release of marketplace and  #NEST.\\n#FeedToEarn . \\n #birdzarmy \\n #luna #BTC #...</td>\n",
       "      <td>Community</td>\n",
       "      <td>first project crypto move earn big thing happen project releas marketplac</td>\n",
       "    </tr>\n",
       "  </tbody>\n",
       "</table>\n",
       "</div>"
      ],
      "text/plain": [
       "        id tweet_created_at  \\\n",
       "0  1212762       2022-08-06   \n",
       "1  1212763       2022-08-06   \n",
       "2  1212765       2022-08-06   \n",
       "3  1212766       2022-08-06   \n",
       "4  1212767       2022-08-06   \n",
       "\n",
       "                                                                                                                                                                                                tweet_text  \\\n",
       "0  @crypto_brody @eCoLoGy1990 @MoonrunnersNFT @ItsukiNFT @thelittlesnft @SpaceRiders_NFT @WDoopsies @WomenandWeapons @WoWPixiesNFT @BokiNFT @quirkiesnft @bitcoin_bowie @Kal_El_Krypto_ @sophiegreen86 ...   \n",
       "1  Need Sick Character artâ“#art #artist #Artists #animation #illustrators #illustrations #illustrationart #NFT #NFTGiveaways #3Danimation #3dart #conceptart #Concept #illustrators #SolanaNFTs #Arti...   \n",
       "2                                                                                                          @The_Hulk_NFT @INagotchiNFT @Tesla @killabearsnft @elonmusk Great choice on a Tesla! Good luck!   \n",
       "3  @CryptoBatzNFT @DarekBTW The first project in crypto with move to earn  #AstroBirdz. Big things happening with this project with release of marketplace and  #NEST.\\n#FeedToEarn . \\n #birdzarmy \\n ...   \n",
       "4  @sashadysonn The first project in crypto with move to earn  #AstroBirdz. Big things happening with this project with release of marketplace and  #NEST.\\n#FeedToEarn . \\n #birdzarmy \\n #luna #BTC #...   \n",
       "\n",
       "   tweet_intent  \\\n",
       "0     Community   \n",
       "1      Giveaway   \n",
       "2  Appreciation   \n",
       "3     Community   \n",
       "4     Community   \n",
       "\n",
       "                                                                                                                              clean  \n",
       "0  brodi nft bowi el krypto new cryptocurr born fan chihuahua meme commun simpli pet love keep transact automat distribut ca bsc tg  \n",
       "1                                                                                                          need sick charact art rt  \n",
       "2                                                                                              hulk nft great choic tesla good luck  \n",
       "3                                                         first project crypto move earn big thing happen project releas marketplac  \n",
       "4                                                         first project crypto move earn big thing happen project releas marketplac  "
      ]
     },
     "execution_count": 91,
     "metadata": {},
     "output_type": "execute_result"
    }
   ],
   "source": [
    "df.head()"
   ]
  },
  {
   "cell_type": "markdown",
   "id": "538ff78c",
   "metadata": {},
   "source": [
    "### saving our model for further evaluations if needed"
   ]
  },
  {
   "cell_type": "code",
   "execution_count": 55,
   "id": "fba4dd04",
   "metadata": {},
   "outputs": [],
   "source": [
    "import pickle"
   ]
  },
  {
   "cell_type": "code",
   "execution_count": 56,
   "id": "c6cdf350",
   "metadata": {},
   "outputs": [],
   "source": [
    "with open('model_Rand_Forest', 'wb') as files:\n",
    "    pickle.dump(model, files)"
   ]
  },
  {
   "cell_type": "code",
   "execution_count": 57,
   "id": "1f92cf86",
   "metadata": {},
   "outputs": [],
   "source": [
    "# load saved model\n",
    "# with open('model name' , 'rb') as f:\n",
    "#     model = pickle.load(f)"
   ]
  },
  {
   "cell_type": "markdown",
   "id": "7aaf9ea0",
   "metadata": {},
   "source": [
    "# Now Formatting the missing intent values "
   ]
  },
  {
   "cell_type": "code",
   "execution_count": 58,
   "id": "e68a3b34",
   "metadata": {},
   "outputs": [],
   "source": [
    "test_df = test_df.reset_index()"
   ]
  },
  {
   "cell_type": "code",
   "execution_count": 59,
   "id": "f49773f4",
   "metadata": {},
   "outputs": [],
   "source": [
    "test_df = test_df.drop('index',axis=1)"
   ]
  },
  {
   "cell_type": "code",
   "execution_count": 60,
   "id": "c88bf353",
   "metadata": {},
   "outputs": [
    {
     "data": {
      "text/html": [
       "<div>\n",
       "<style scoped>\n",
       "    .dataframe tbody tr th:only-of-type {\n",
       "        vertical-align: middle;\n",
       "    }\n",
       "\n",
       "    .dataframe tbody tr th {\n",
       "        vertical-align: top;\n",
       "    }\n",
       "\n",
       "    .dataframe thead th {\n",
       "        text-align: right;\n",
       "    }\n",
       "</style>\n",
       "<table border=\"1\" class=\"dataframe\">\n",
       "  <thead>\n",
       "    <tr style=\"text-align: right;\">\n",
       "      <th></th>\n",
       "      <th>id</th>\n",
       "      <th>tweet_created_at</th>\n",
       "      <th>tweet_text</th>\n",
       "      <th>tweet_intent</th>\n",
       "    </tr>\n",
       "  </thead>\n",
       "  <tbody>\n",
       "    <tr>\n",
       "      <th>0</th>\n",
       "      <td>1212764</td>\n",
       "      <td>2022-08-06T16:56:35.000Z</td>\n",
       "      <td>15% off ðŸ§™â€â™‚ï¸ #Wizardia NFTs - it's a #p2e game in a magic-filled metaverse! Arena Genesis NFTs = 50% APY passive royalties. Wizard NFTs = access to the Alpha game! Get them now ðŸ‘‰ https...</td>\n",
       "      <td>NaN</td>\n",
       "    </tr>\n",
       "    <tr>\n",
       "      <th>1</th>\n",
       "      <td>1212770</td>\n",
       "      <td>2022-08-06T16:56:33.000Z</td>\n",
       "      <td>@asksabir007 @dao_lm Don't miss the chance to win NFT worth of 1000Each Just simple step with clicking the link below and finish some easy task that will be. Come join us now and earn your NFT col...</td>\n",
       "      <td>NaN</td>\n",
       "    </tr>\n",
       "    <tr>\n",
       "      <th>2</th>\n",
       "      <td>1212773</td>\n",
       "      <td>2022-08-06T16:56:33.000Z</td>\n",
       "      <td>This zesty faucet from @_bitcoiner is making me tweet this to claim my free NEFTY tokens. âš¡\\n\\n@_bitcoiner unlock me 4255a896-9e33-45c6-b800-e9d64a0511c1\\n\\n#NEFTY #NFT $NEFTY https://t.co/YxboP...</td>\n",
       "      <td>NaN</td>\n",
       "    </tr>\n",
       "    <tr>\n",
       "      <th>3</th>\n",
       "      <td>1212804</td>\n",
       "      <td>2022-08-06T16:56:23.000Z</td>\n",
       "      <td>15% off ðŸ§™â€â™‚ï¸ #Wizardia NFTs - it's a #p2e game in a magic-filled metaverse! Arena Genesis NFTs = 50% APY passive royalties. Wizard NFTs = access to the Alpha game! Get them now ðŸ‘‰ https...</td>\n",
       "      <td>NaN</td>\n",
       "    </tr>\n",
       "    <tr>\n",
       "      <th>4</th>\n",
       "      <td>1212776</td>\n",
       "      <td>2022-08-06T16:56:32.000Z</td>\n",
       "      <td>@Kavaboy_NFT @tanya_4d Message me, letâ€™s talk about some marketing for your project</td>\n",
       "      <td>NaN</td>\n",
       "    </tr>\n",
       "  </tbody>\n",
       "</table>\n",
       "</div>"
      ],
      "text/plain": [
       "        id          tweet_created_at  \\\n",
       "0  1212764  2022-08-06T16:56:35.000Z   \n",
       "1  1212770  2022-08-06T16:56:33.000Z   \n",
       "2  1212773  2022-08-06T16:56:33.000Z   \n",
       "3  1212804  2022-08-06T16:56:23.000Z   \n",
       "4  1212776  2022-08-06T16:56:32.000Z   \n",
       "\n",
       "                                                                                                                                                                                                tweet_text  \\\n",
       "0  15% off ðŸ§™â€â™‚ï¸ #Wizardia NFTs - it's a #p2e game in a magic-filled metaverse! Arena Genesis NFTs = 50% APY passive royalties. Wizard NFTs = access to the Alpha game! Get them now ðŸ‘‰ https...   \n",
       "1  @asksabir007 @dao_lm Don't miss the chance to win NFT worth of 1000Each Just simple step with clicking the link below and finish some easy task that will be. Come join us now and earn your NFT col...   \n",
       "2  This zesty faucet from @_bitcoiner is making me tweet this to claim my free NEFTY tokens. âš¡\\n\\n@_bitcoiner unlock me 4255a896-9e33-45c6-b800-e9d64a0511c1\\n\\n#NEFTY #NFT $NEFTY https://t.co/YxboP...   \n",
       "3  15% off ðŸ§™â€â™‚ï¸ #Wizardia NFTs - it's a #p2e game in a magic-filled metaverse! Arena Genesis NFTs = 50% APY passive royalties. Wizard NFTs = access to the Alpha game! Get them now ðŸ‘‰ https...   \n",
       "4                                                                                                                    @Kavaboy_NFT @tanya_4d Message me, letâ€™s talk about some marketing for your project   \n",
       "\n",
       "  tweet_intent  \n",
       "0          NaN  \n",
       "1          NaN  \n",
       "2          NaN  \n",
       "3          NaN  \n",
       "4          NaN  "
      ]
     },
     "execution_count": 60,
     "metadata": {},
     "output_type": "execute_result"
    }
   ],
   "source": [
    "test_df.head()"
   ]
  },
  {
   "cell_type": "markdown",
   "id": "0bdd1b4f",
   "metadata": {},
   "source": [
    "creating df_Missing_intent for model predicting"
   ]
  },
  {
   "cell_type": "code",
   "execution_count": 61,
   "id": "83031611",
   "metadata": {},
   "outputs": [
    {
     "data": {
      "text/html": [
       "<div>\n",
       "<style scoped>\n",
       "    .dataframe tbody tr th:only-of-type {\n",
       "        vertical-align: middle;\n",
       "    }\n",
       "\n",
       "    .dataframe tbody tr th {\n",
       "        vertical-align: top;\n",
       "    }\n",
       "\n",
       "    .dataframe thead th {\n",
       "        text-align: right;\n",
       "    }\n",
       "</style>\n",
       "<table border=\"1\" class=\"dataframe\">\n",
       "  <thead>\n",
       "    <tr style=\"text-align: right;\">\n",
       "      <th></th>\n",
       "      <th>tweet_text</th>\n",
       "    </tr>\n",
       "  </thead>\n",
       "  <tbody>\n",
       "    <tr>\n",
       "      <th>0</th>\n",
       "      <td>15% off ðŸ§™â€â™‚ï¸ #Wizardia NFTs - it's a #p2e game in a magic-filled metaverse! Arena Genesis NFTs = 50% APY passive royalties. Wizard NFTs = access to the Alpha game! Get them now ðŸ‘‰ https...</td>\n",
       "    </tr>\n",
       "    <tr>\n",
       "      <th>1</th>\n",
       "      <td>@asksabir007 @dao_lm Don't miss the chance to win NFT worth of 1000Each Just simple step with clicking the link below and finish some easy task that will be. Come join us now and earn your NFT col...</td>\n",
       "    </tr>\n",
       "    <tr>\n",
       "      <th>2</th>\n",
       "      <td>This zesty faucet from @_bitcoiner is making me tweet this to claim my free NEFTY tokens. âš¡\\n\\n@_bitcoiner unlock me 4255a896-9e33-45c6-b800-e9d64a0511c1\\n\\n#NEFTY #NFT $NEFTY https://t.co/YxboP...</td>\n",
       "    </tr>\n",
       "    <tr>\n",
       "      <th>3</th>\n",
       "      <td>15% off ðŸ§™â€â™‚ï¸ #Wizardia NFTs - it's a #p2e game in a magic-filled metaverse! Arena Genesis NFTs = 50% APY passive royalties. Wizard NFTs = access to the Alpha game! Get them now ðŸ‘‰ https...</td>\n",
       "    </tr>\n",
       "    <tr>\n",
       "      <th>4</th>\n",
       "      <td>@Kavaboy_NFT @tanya_4d Message me, letâ€™s talk about some marketing for your project</td>\n",
       "    </tr>\n",
       "  </tbody>\n",
       "</table>\n",
       "</div>"
      ],
      "text/plain": [
       "                                                                                                                                                                                                tweet_text\n",
       "0  15% off ðŸ§™â€â™‚ï¸ #Wizardia NFTs - it's a #p2e game in a magic-filled metaverse! Arena Genesis NFTs = 50% APY passive royalties. Wizard NFTs = access to the Alpha game! Get them now ðŸ‘‰ https...\n",
       "1  @asksabir007 @dao_lm Don't miss the chance to win NFT worth of 1000Each Just simple step with clicking the link below and finish some easy task that will be. Come join us now and earn your NFT col...\n",
       "2  This zesty faucet from @_bitcoiner is making me tweet this to claim my free NEFTY tokens. âš¡\\n\\n@_bitcoiner unlock me 4255a896-9e33-45c6-b800-e9d64a0511c1\\n\\n#NEFTY #NFT $NEFTY https://t.co/YxboP...\n",
       "3  15% off ðŸ§™â€â™‚ï¸ #Wizardia NFTs - it's a #p2e game in a magic-filled metaverse! Arena Genesis NFTs = 50% APY passive royalties. Wizard NFTs = access to the Alpha game! Get them now ðŸ‘‰ https...\n",
       "4                                                                                                                    @Kavaboy_NFT @tanya_4d Message me, letâ€™s talk about some marketing for your project"
      ]
     },
     "execution_count": 61,
     "metadata": {},
     "output_type": "execute_result"
    }
   ],
   "source": [
    "df_Missing_intent = pd.DataFrame(test_df['tweet_text'])\n",
    "df_Missing_intent.head()"
   ]
  },
  {
   "cell_type": "markdown",
   "id": "fa9795a9",
   "metadata": {},
   "source": [
    "### Applying all the cleaning functions for missing intent tweets"
   ]
  },
  {
   "cell_type": "code",
   "execution_count": 62,
   "id": "4d531528",
   "metadata": {},
   "outputs": [],
   "source": [
    "# cleaner\n",
    "# mis_spelled_words\n",
    "# remove_mixed_words"
   ]
  },
  {
   "cell_type": "code",
   "execution_count": 63,
   "id": "3eaab2b7",
   "metadata": {},
   "outputs": [],
   "source": [
    "df_Missing_intent['clean_text'] = df_Missing_intent['tweet_text'].map(lambda x: cleaner(x))\n",
    "df_Missing_intent['clean_text'] = df_Missing_intent['clean_text'].map(lambda x: mis_spelled_words(x))\n",
    "df_Missing_intent['clean_text'] = df_Missing_intent['clean_text'].map(lambda x: remove_mixed_words(x))"
   ]
  },
  {
   "cell_type": "code",
   "execution_count": 64,
   "id": "f58feead",
   "metadata": {},
   "outputs": [
    {
     "data": {
      "text/plain": [
       "0    15 off nfts  game in magic filled metaverse arena genesis nfts 50 apy passive royalties wizard nfts access to the alpha game get them now nft supply is limited when arena genesis round ends prices...\n",
       "1    lm  miss the chance to win nft worth of  just simple step with clicking the link below and finish some easy task that will be come join us now and earn your nft collection with yuliverse make your...\n",
       "2                                                                                      this zesty faucet from bitcoiner is making me tweet this to claim my free nefty tokens bitcoiner unlock me      nefty\n",
       "3    15 off nfts  game in magic filled metaverse arena genesis nfts 50 apy passive royalties wizard nfts access to the alpha game get them now nft supply is limited when arena genesis round ends prices...\n",
       "4                                                                                                                                             nft  message me let talk about some marketing for your project\n",
       "5                                                                                                                                                       glad you stayed the nft world keeps growing each day\n",
       "6                                                                                                                                                                                         check out this nft\n",
       "7                                                                                                                                                                                                   nft cool\n",
       "8                                                                                                                                                                                               nft so funny\n",
       "9    revoluzion is multi dapp ecosystem token backing  web based nft game apocalypse reasons for investment of transaction tax goes to holders as busd dividend you have an extra entitlement if you hold...\n",
       "Name: clean_text, dtype: object"
      ]
     },
     "execution_count": 64,
     "metadata": {},
     "output_type": "execute_result"
    }
   ],
   "source": [
    "df_Missing_intent['clean_text'].iloc[:10]"
   ]
  },
  {
   "cell_type": "markdown",
   "id": "78c82efe",
   "metadata": {},
   "source": [
    "Let's remove stopwords from missing intent dataset"
   ]
  },
  {
   "cell_type": "code",
   "execution_count": 65,
   "id": "9e3b49a7",
   "metadata": {},
   "outputs": [
    {
     "name": "stderr",
     "output_type": "stream",
     "text": [
      "100%|███████████████████████████████████████████████████████████████████████████| 31089/31089 [03:10<00:00, 163.35it/s]\n"
     ]
    }
   ],
   "source": [
    "import nltk\n",
    "# nltk.download('stopwords')\n",
    "from nltk.corpus import stopwords\n",
    "from nltk.stem.porter import PorterStemmer\n",
    "ps = PorterStemmer()\n",
    "from tqdm import tqdm\n",
    "corpus_missing_intent = []\n",
    "for i in tqdm(range(0,len(df_Missing_intent))):\n",
    "    tweet = df_Missing_intent['clean_text'][i]\n",
    "    tweet = tweet.split()\n",
    "    tweet = [ ps.stem(word) for word in tweet if not word in set(stopwords.words('english')) ]\n",
    "    tweet = ' '.join(tweet)\n",
    "    #print(review)\n",
    "    corpus_missing_intent.append(tweet)"
   ]
  },
  {
   "cell_type": "code",
   "execution_count": 66,
   "id": "af4312cb",
   "metadata": {},
   "outputs": [
    {
     "data": {
      "text/html": [
       "<div>\n",
       "<style scoped>\n",
       "    .dataframe tbody tr th:only-of-type {\n",
       "        vertical-align: middle;\n",
       "    }\n",
       "\n",
       "    .dataframe tbody tr th {\n",
       "        vertical-align: top;\n",
       "    }\n",
       "\n",
       "    .dataframe thead th {\n",
       "        text-align: right;\n",
       "    }\n",
       "</style>\n",
       "<table border=\"1\" class=\"dataframe\">\n",
       "  <thead>\n",
       "    <tr style=\"text-align: right;\">\n",
       "      <th></th>\n",
       "      <th>corpus_missing_intent</th>\n",
       "    </tr>\n",
       "  </thead>\n",
       "  <tbody>\n",
       "    <tr>\n",
       "      <th>0</th>\n",
       "      <td>15 nft game magic fill metavers arena genesi nft 50 api passiv royalti wizard nft access alpha game get nft suppli limit arena genesi round end price rise</td>\n",
       "    </tr>\n",
       "    <tr>\n",
       "      <th>1</th>\n",
       "      <td>lm miss chanc win nft worth simpl step click link finish easi task come join us earn nft collect yulivers make profit project</td>\n",
       "    </tr>\n",
       "    <tr>\n",
       "      <th>2</th>\n",
       "      <td>zesti faucet bitcoin make tweet claim free nefti token bitcoin unlock nefti</td>\n",
       "    </tr>\n",
       "    <tr>\n",
       "      <th>3</th>\n",
       "      <td>15 nft game magic fill metavers arena genesi nft 50 api passiv royalti wizard nft access alpha game get nft suppli limit arena genesi round end price rise</td>\n",
       "    </tr>\n",
       "    <tr>\n",
       "      <th>4</th>\n",
       "      <td>nft messag let talk market project</td>\n",
       "    </tr>\n",
       "  </tbody>\n",
       "</table>\n",
       "</div>"
      ],
      "text/plain": [
       "                                                                                                                                        corpus_missing_intent\n",
       "0  15 nft game magic fill metavers arena genesi nft 50 api passiv royalti wizard nft access alpha game get nft suppli limit arena genesi round end price rise\n",
       "1                               lm miss chanc win nft worth simpl step click link finish easi task come join us earn nft collect yulivers make profit project\n",
       "2                                                                                 zesti faucet bitcoin make tweet claim free nefti token bitcoin unlock nefti\n",
       "3  15 nft game magic fill metavers arena genesi nft 50 api passiv royalti wizard nft access alpha game get nft suppli limit arena genesi round end price rise\n",
       "4                                                                                                                          nft messag let talk market project"
      ]
     },
     "execution_count": 66,
     "metadata": {},
     "output_type": "execute_result"
    }
   ],
   "source": [
    "corpus_mis_dataset = pd.DataFrame(corpus_missing_intent,columns=['corpus_missing_intent'])\n",
    "corpus_mis_dataset.head()"
   ]
  },
  {
   "cell_type": "markdown",
   "id": "0cb86bb7",
   "metadata": {},
   "source": [
    "Exporting missing intent corpus to csv for evaluations in future"
   ]
  },
  {
   "cell_type": "code",
   "execution_count": 67,
   "id": "634c2fc1",
   "metadata": {},
   "outputs": [],
   "source": [
    "corpus_mis_dataset['corpus_missing_intent'].to_csv('corpus_missing_intent.csv',index=False)"
   ]
  },
  {
   "cell_type": "code",
   "execution_count": 68,
   "id": "ca00b64a",
   "metadata": {},
   "outputs": [
    {
     "data": {
      "text/plain": [
       "(31089, 1)"
      ]
     },
     "execution_count": 68,
     "metadata": {},
     "output_type": "execute_result"
    }
   ],
   "source": [
    "corpus_mis_dataset.shape"
   ]
  },
  {
   "cell_type": "code",
   "execution_count": 69,
   "id": "fa8fd533",
   "metadata": {},
   "outputs": [],
   "source": [
    "#  feature extraction\n",
    "from sklearn.feature_extraction.text import CountVectorizer\n",
    "bow_vectorizer_test = CountVectorizer(max_features=1000)"
   ]
  },
  {
   "cell_type": "markdown",
   "id": "9f743c84",
   "metadata": {},
   "source": [
    "bag of words for missing intent dataset"
   ]
  },
  {
   "cell_type": "code",
   "execution_count": 70,
   "id": "cf0a0463",
   "metadata": {},
   "outputs": [],
   "source": [
    "bow_test = bow_vectorizer_test.fit_transform(corpus_mis_dataset['corpus_missing_intent'])\n",
    "bow_test = bow_test.toarray()"
   ]
  },
  {
   "cell_type": "code",
   "execution_count": 71,
   "id": "3a988c75",
   "metadata": {},
   "outputs": [],
   "source": [
    "# using randomForest to predict missing intent values against tweets"
   ]
  },
  {
   "cell_type": "code",
   "execution_count": 72,
   "id": "fe3288d7",
   "metadata": {},
   "outputs": [
    {
     "data": {
      "text/plain": [
       "array([1, 3, 0, ..., 2, 0, 4], dtype=int64)"
      ]
     },
     "execution_count": 72,
     "metadata": {},
     "output_type": "execute_result"
    }
   ],
   "source": [
    "missing_intent = model.predict(bow_test)\n",
    "missing_intent"
   ]
  },
  {
   "cell_type": "code",
   "execution_count": 83,
   "id": "dfcaa9f5",
   "metadata": {},
   "outputs": [
    {
     "data": {
      "text/html": [
       "<div>\n",
       "<style scoped>\n",
       "    .dataframe tbody tr th:only-of-type {\n",
       "        vertical-align: middle;\n",
       "    }\n",
       "\n",
       "    .dataframe tbody tr th {\n",
       "        vertical-align: top;\n",
       "    }\n",
       "\n",
       "    .dataframe thead th {\n",
       "        text-align: right;\n",
       "    }\n",
       "</style>\n",
       "<table border=\"1\" class=\"dataframe\">\n",
       "  <thead>\n",
       "    <tr style=\"text-align: right;\">\n",
       "      <th></th>\n",
       "      <th>id</th>\n",
       "      <th>tweet_created_at</th>\n",
       "      <th>tweet_text</th>\n",
       "      <th>tweet_intent</th>\n",
       "      <th>cleaned_tweet</th>\n",
       "    </tr>\n",
       "  </thead>\n",
       "  <tbody>\n",
       "    <tr>\n",
       "      <th>0</th>\n",
       "      <td>1212764</td>\n",
       "      <td>2022-08-06T16:56:35.000Z</td>\n",
       "      <td>15% off ðŸ§™â€â™‚ï¸ #Wizardia NFTs - it's a #p2e game in a magic-filled metaverse! Arena Genesis NFTs = 50% APY passive royalties. Wizard NFTs = access to the Alpha game! Get them now ðŸ‘‰ https...</td>\n",
       "      <td>1</td>\n",
       "      <td>15 nft game magic fill metavers arena genesi nft 50 api passiv royalti wizard nft access alpha game get nft suppli limit arena genesi round end price rise</td>\n",
       "    </tr>\n",
       "    <tr>\n",
       "      <th>1</th>\n",
       "      <td>1212770</td>\n",
       "      <td>2022-08-06T16:56:33.000Z</td>\n",
       "      <td>@asksabir007 @dao_lm Don't miss the chance to win NFT worth of 1000Each Just simple step with clicking the link below and finish some easy task that will be. Come join us now and earn your NFT col...</td>\n",
       "      <td>3</td>\n",
       "      <td>lm miss chanc win nft worth simpl step click link finish easi task come join us earn nft collect yulivers make profit project</td>\n",
       "    </tr>\n",
       "    <tr>\n",
       "      <th>2</th>\n",
       "      <td>1212773</td>\n",
       "      <td>2022-08-06T16:56:33.000Z</td>\n",
       "      <td>This zesty faucet from @_bitcoiner is making me tweet this to claim my free NEFTY tokens. âš¡\\n\\n@_bitcoiner unlock me 4255a896-9e33-45c6-b800-e9d64a0511c1\\n\\n#NEFTY #NFT $NEFTY https://t.co/YxboP...</td>\n",
       "      <td>0</td>\n",
       "      <td>zesti faucet bitcoin make tweet claim free nefti token bitcoin unlock nefti</td>\n",
       "    </tr>\n",
       "    <tr>\n",
       "      <th>3</th>\n",
       "      <td>1212804</td>\n",
       "      <td>2022-08-06T16:56:23.000Z</td>\n",
       "      <td>15% off ðŸ§™â€â™‚ï¸ #Wizardia NFTs - it's a #p2e game in a magic-filled metaverse! Arena Genesis NFTs = 50% APY passive royalties. Wizard NFTs = access to the Alpha game! Get them now ðŸ‘‰ https...</td>\n",
       "      <td>1</td>\n",
       "      <td>15 nft game magic fill metavers arena genesi nft 50 api passiv royalti wizard nft access alpha game get nft suppli limit arena genesi round end price rise</td>\n",
       "    </tr>\n",
       "    <tr>\n",
       "      <th>4</th>\n",
       "      <td>1212776</td>\n",
       "      <td>2022-08-06T16:56:32.000Z</td>\n",
       "      <td>@Kavaboy_NFT @tanya_4d Message me, letâ€™s talk about some marketing for your project</td>\n",
       "      <td>1</td>\n",
       "      <td>nft messag let talk market project</td>\n",
       "    </tr>\n",
       "  </tbody>\n",
       "</table>\n",
       "</div>"
      ],
      "text/plain": [
       "        id          tweet_created_at  \\\n",
       "0  1212764  2022-08-06T16:56:35.000Z   \n",
       "1  1212770  2022-08-06T16:56:33.000Z   \n",
       "2  1212773  2022-08-06T16:56:33.000Z   \n",
       "3  1212804  2022-08-06T16:56:23.000Z   \n",
       "4  1212776  2022-08-06T16:56:32.000Z   \n",
       "\n",
       "                                                                                                                                                                                                tweet_text  \\\n",
       "0  15% off ðŸ§™â€â™‚ï¸ #Wizardia NFTs - it's a #p2e game in a magic-filled metaverse! Arena Genesis NFTs = 50% APY passive royalties. Wizard NFTs = access to the Alpha game! Get them now ðŸ‘‰ https...   \n",
       "1  @asksabir007 @dao_lm Don't miss the chance to win NFT worth of 1000Each Just simple step with clicking the link below and finish some easy task that will be. Come join us now and earn your NFT col...   \n",
       "2  This zesty faucet from @_bitcoiner is making me tweet this to claim my free NEFTY tokens. âš¡\\n\\n@_bitcoiner unlock me 4255a896-9e33-45c6-b800-e9d64a0511c1\\n\\n#NEFTY #NFT $NEFTY https://t.co/YxboP...   \n",
       "3  15% off ðŸ§™â€â™‚ï¸ #Wizardia NFTs - it's a #p2e game in a magic-filled metaverse! Arena Genesis NFTs = 50% APY passive royalties. Wizard NFTs = access to the Alpha game! Get them now ðŸ‘‰ https...   \n",
       "4                                                                                                                    @Kavaboy_NFT @tanya_4d Message me, letâ€™s talk about some marketing for your project   \n",
       "\n",
       "   tweet_intent  \\\n",
       "0             1   \n",
       "1             3   \n",
       "2             0   \n",
       "3             1   \n",
       "4             1   \n",
       "\n",
       "                                                                                                                                                cleaned_tweet  \n",
       "0  15 nft game magic fill metavers arena genesi nft 50 api passiv royalti wizard nft access alpha game get nft suppli limit arena genesi round end price rise  \n",
       "1                               lm miss chanc win nft worth simpl step click link finish easi task come join us earn nft collect yulivers make profit project  \n",
       "2                                                                                 zesti faucet bitcoin make tweet claim free nefti token bitcoin unlock nefti  \n",
       "3  15 nft game magic fill metavers arena genesi nft 50 api passiv royalti wizard nft access alpha game get nft suppli limit arena genesi round end price rise  \n",
       "4                                                                                                                          nft messag let talk market project  "
      ]
     },
     "execution_count": 83,
     "metadata": {},
     "output_type": "execute_result"
    }
   ],
   "source": [
    "test_df['cleaned_tweet'] = corpus_missing_intent\n",
    "test_df['tweet_intent'] = missing_intent\n",
    "test_df.head()"
   ]
  },
  {
   "cell_type": "markdown",
   "id": "4d1be425",
   "metadata": {},
   "source": [
    "### mapping intent the values into corresponding labels"
   ]
  },
  {
   "cell_type": "code",
   "execution_count": 74,
   "id": "95ffab6c",
   "metadata": {},
   "outputs": [],
   "source": [
    "dict_tweet = {0:'Community',1:'Giveaway', 2:'Appreciation', 3:'Whitelist', 4:'Presale'}"
   ]
  },
  {
   "cell_type": "code",
   "execution_count": 84,
   "id": "b731eb61",
   "metadata": {},
   "outputs": [],
   "source": [
    "test_df['tweet_intent'] = test_df['tweet_intent'].map(dict_tweet)"
   ]
  },
  {
   "cell_type": "code",
   "execution_count": 85,
   "id": "eacce6d1",
   "metadata": {},
   "outputs": [
    {
     "data": {
      "text/html": [
       "<div>\n",
       "<style scoped>\n",
       "    .dataframe tbody tr th:only-of-type {\n",
       "        vertical-align: middle;\n",
       "    }\n",
       "\n",
       "    .dataframe tbody tr th {\n",
       "        vertical-align: top;\n",
       "    }\n",
       "\n",
       "    .dataframe thead th {\n",
       "        text-align: right;\n",
       "    }\n",
       "</style>\n",
       "<table border=\"1\" class=\"dataframe\">\n",
       "  <thead>\n",
       "    <tr style=\"text-align: right;\">\n",
       "      <th></th>\n",
       "      <th>id</th>\n",
       "      <th>tweet_created_at</th>\n",
       "      <th>tweet_text</th>\n",
       "      <th>tweet_intent</th>\n",
       "      <th>cleaned_tweet</th>\n",
       "    </tr>\n",
       "  </thead>\n",
       "  <tbody>\n",
       "    <tr>\n",
       "      <th>0</th>\n",
       "      <td>1212764</td>\n",
       "      <td>2022-08-06T16:56:35.000Z</td>\n",
       "      <td>15% off ðŸ§™â€â™‚ï¸ #Wizardia NFTs - it's a #p2e game in a magic-filled metaverse! Arena Genesis NFTs = 50% APY passive royalties. Wizard NFTs = access to the Alpha game! Get them now ðŸ‘‰ https...</td>\n",
       "      <td>Giveaway</td>\n",
       "      <td>15 nft game magic fill metavers arena genesi nft 50 api passiv royalti wizard nft access alpha game get nft suppli limit arena genesi round end price rise</td>\n",
       "    </tr>\n",
       "    <tr>\n",
       "      <th>1</th>\n",
       "      <td>1212770</td>\n",
       "      <td>2022-08-06T16:56:33.000Z</td>\n",
       "      <td>@asksabir007 @dao_lm Don't miss the chance to win NFT worth of 1000Each Just simple step with clicking the link below and finish some easy task that will be. Come join us now and earn your NFT col...</td>\n",
       "      <td>Whitelist</td>\n",
       "      <td>lm miss chanc win nft worth simpl step click link finish easi task come join us earn nft collect yulivers make profit project</td>\n",
       "    </tr>\n",
       "    <tr>\n",
       "      <th>2</th>\n",
       "      <td>1212773</td>\n",
       "      <td>2022-08-06T16:56:33.000Z</td>\n",
       "      <td>This zesty faucet from @_bitcoiner is making me tweet this to claim my free NEFTY tokens. âš¡\\n\\n@_bitcoiner unlock me 4255a896-9e33-45c6-b800-e9d64a0511c1\\n\\n#NEFTY #NFT $NEFTY https://t.co/YxboP...</td>\n",
       "      <td>Community</td>\n",
       "      <td>zesti faucet bitcoin make tweet claim free nefti token bitcoin unlock nefti</td>\n",
       "    </tr>\n",
       "    <tr>\n",
       "      <th>3</th>\n",
       "      <td>1212804</td>\n",
       "      <td>2022-08-06T16:56:23.000Z</td>\n",
       "      <td>15% off ðŸ§™â€â™‚ï¸ #Wizardia NFTs - it's a #p2e game in a magic-filled metaverse! Arena Genesis NFTs = 50% APY passive royalties. Wizard NFTs = access to the Alpha game! Get them now ðŸ‘‰ https...</td>\n",
       "      <td>Giveaway</td>\n",
       "      <td>15 nft game magic fill metavers arena genesi nft 50 api passiv royalti wizard nft access alpha game get nft suppli limit arena genesi round end price rise</td>\n",
       "    </tr>\n",
       "    <tr>\n",
       "      <th>4</th>\n",
       "      <td>1212776</td>\n",
       "      <td>2022-08-06T16:56:32.000Z</td>\n",
       "      <td>@Kavaboy_NFT @tanya_4d Message me, letâ€™s talk about some marketing for your project</td>\n",
       "      <td>Giveaway</td>\n",
       "      <td>nft messag let talk market project</td>\n",
       "    </tr>\n",
       "  </tbody>\n",
       "</table>\n",
       "</div>"
      ],
      "text/plain": [
       "        id          tweet_created_at  \\\n",
       "0  1212764  2022-08-06T16:56:35.000Z   \n",
       "1  1212770  2022-08-06T16:56:33.000Z   \n",
       "2  1212773  2022-08-06T16:56:33.000Z   \n",
       "3  1212804  2022-08-06T16:56:23.000Z   \n",
       "4  1212776  2022-08-06T16:56:32.000Z   \n",
       "\n",
       "                                                                                                                                                                                                tweet_text  \\\n",
       "0  15% off ðŸ§™â€â™‚ï¸ #Wizardia NFTs - it's a #p2e game in a magic-filled metaverse! Arena Genesis NFTs = 50% APY passive royalties. Wizard NFTs = access to the Alpha game! Get them now ðŸ‘‰ https...   \n",
       "1  @asksabir007 @dao_lm Don't miss the chance to win NFT worth of 1000Each Just simple step with clicking the link below and finish some easy task that will be. Come join us now and earn your NFT col...   \n",
       "2  This zesty faucet from @_bitcoiner is making me tweet this to claim my free NEFTY tokens. âš¡\\n\\n@_bitcoiner unlock me 4255a896-9e33-45c6-b800-e9d64a0511c1\\n\\n#NEFTY #NFT $NEFTY https://t.co/YxboP...   \n",
       "3  15% off ðŸ§™â€â™‚ï¸ #Wizardia NFTs - it's a #p2e game in a magic-filled metaverse! Arena Genesis NFTs = 50% APY passive royalties. Wizard NFTs = access to the Alpha game! Get them now ðŸ‘‰ https...   \n",
       "4                                                                                                                    @Kavaboy_NFT @tanya_4d Message me, letâ€™s talk about some marketing for your project   \n",
       "\n",
       "  tweet_intent  \\\n",
       "0     Giveaway   \n",
       "1    Whitelist   \n",
       "2    Community   \n",
       "3     Giveaway   \n",
       "4     Giveaway   \n",
       "\n",
       "                                                                                                                                                cleaned_tweet  \n",
       "0  15 nft game magic fill metavers arena genesi nft 50 api passiv royalti wizard nft access alpha game get nft suppli limit arena genesi round end price rise  \n",
       "1                               lm miss chanc win nft worth simpl step click link finish easi task come join us earn nft collect yulivers make profit project  \n",
       "2                                                                                 zesti faucet bitcoin make tweet claim free nefti token bitcoin unlock nefti  \n",
       "3  15 nft game magic fill metavers arena genesi nft 50 api passiv royalti wizard nft access alpha game get nft suppli limit arena genesi round end price rise  \n",
       "4                                                                                                                          nft messag let talk market project  "
      ]
     },
     "execution_count": 85,
     "metadata": {},
     "output_type": "execute_result"
    }
   ],
   "source": [
    "test_df.head()"
   ]
  },
  {
   "cell_type": "code",
   "execution_count": 86,
   "id": "83c0144d",
   "metadata": {},
   "outputs": [],
   "source": [
    "test_df.to_csv('missing_intent_filled.csv',index=False)"
   ]
  },
  {
   "cell_type": "code",
   "execution_count": 92,
   "id": "2636d061",
   "metadata": {},
   "outputs": [],
   "source": [
    "final_data = pd.concat([df,test_df],axis=0,ignore_index=True)"
   ]
  },
  {
   "cell_type": "code",
   "execution_count": 93,
   "id": "fcf59b9e",
   "metadata": {},
   "outputs": [
    {
     "data": {
      "text/plain": [
       "(123518, 6)"
      ]
     },
     "execution_count": 93,
     "metadata": {},
     "output_type": "execute_result"
    }
   ],
   "source": [
    "final_data.shape"
   ]
  },
  {
   "cell_type": "markdown",
   "id": "dd217bb2",
   "metadata": {},
   "source": [
    "### Finally Exporting the Final DataFrame to CSV file "
   ]
  },
  {
   "cell_type": "code",
   "execution_count": 95,
   "id": "f59df17c",
   "metadata": {},
   "outputs": [],
   "source": [
    "final_data.to_csv('final_data.csv',index=False)"
   ]
  },
  {
   "cell_type": "markdown",
   "id": "dc6b9233",
   "metadata": {},
   "source": [
    "# Thank You"
   ]
  }
 ],
 "metadata": {
  "kernelspec": {
   "display_name": "Python 3",
   "language": "python",
   "name": "python3"
  },
  "language_info": {
   "codemirror_mode": {
    "name": "ipython",
    "version": 3
   },
   "file_extension": ".py",
   "mimetype": "text/x-python",
   "name": "python",
   "nbconvert_exporter": "python",
   "pygments_lexer": "ipython3",
   "version": "3.8.8"
  }
 },
 "nbformat": 4,
 "nbformat_minor": 5
}
